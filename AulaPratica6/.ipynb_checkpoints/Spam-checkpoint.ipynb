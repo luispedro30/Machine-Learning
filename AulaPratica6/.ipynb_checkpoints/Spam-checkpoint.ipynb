{
 "cells": [
  {
   "cell_type": "code",
   "execution_count": 215,
   "id": "484c17c2",
   "metadata": {},
   "outputs": [],
   "source": [
    "# -*- coding: utf-8 -*-\n",
    "import pandas as pd"
   ]
  },
  {
   "cell_type": "code",
   "execution_count": 216,
   "id": "9cb7c029",
   "metadata": {},
   "outputs": [
    {
     "data": {
      "text/plain": [
       "(5572, 5)"
      ]
     },
     "execution_count": 216,
     "metadata": {},
     "output_type": "execute_result"
    }
   ],
   "source": [
    "spam = pd.read_csv('spam.csv',encoding='ISO-8859-1')\n",
    "spam.head()\n",
    "spam.shape"
   ]
  },
  {
   "cell_type": "code",
   "execution_count": 217,
   "id": "0fba2165",
   "metadata": {},
   "outputs": [],
   "source": [
    "def unique_values_columns(dataset):\n",
    "    for (columnName, columnData) in dataset.iteritems():\n",
    "        print('Column Name : ', columnName)\n",
    "        print('Column Contents : ', columnData.unique())"
   ]
  },
  {
   "cell_type": "code",
   "execution_count": 218,
   "id": "94de7d79",
   "metadata": {},
   "outputs": [
    {
     "name": "stdout",
     "output_type": "stream",
     "text": [
      "Column Name :  v1\n",
      "Column Contents :  ['ham' 'spam']\n",
      "Column Name :  v2\n",
      "Column Contents :  ['Go until jurong point, crazy.. Available only in bugis n great world la e buffet... Cine there got amore wat...'\n",
      " 'Ok lar... Joking wif u oni...'\n",
      " \"Free entry in 2 a wkly comp to win FA Cup final tkts 21st May 2005. Text FA to 87121 to receive entry question(std txt rate)T&C's apply 08452810075over18's\"\n",
      " ... 'Pity, * was in mood for that. So...any other suggestions?'\n",
      " \"The guy did some bitching but I acted like i'd be interested in buying something else next week and he gave it to us for free\"\n",
      " 'Rofl. Its true to its name']\n",
      "Column Name :  Unnamed: 2\n",
      "Column Contents :  [nan ' PO Box 5249'\n",
      " ' the person is definitely special for u..... But if the person is so special'\n",
      " ' HOWU DOIN? FOUNDURSELF A JOBYET SAUSAGE?LOVE JEN XXX\\\\\"\"'\n",
      " ' wanted to say hi. HI!!!\\\\\" Stop? Send STOP to 62468\"'\n",
      " 'this wont even start........ Datz confidence..\"' 'GN' '.;-):-D\"'\n",
      " 'just been in bedbut mite go 2 thepub l8tr if uwana mt up?loads a luv Jenxxx.\\\\\"\"'\n",
      " ' bt not his girlfrnd... G o o d n i g h t . . .@\"' ' I\\'ll come up\"'\n",
      " ' don\\'t miss ur best life for anything... Gud nyt...\"'\n",
      " ' just as a shop has to give a guarantee on what they sell. B. G.\"'\n",
      " ' But at d end my love compromised me for everything:-(\\\\\".. Gud mornin:-)\"'\n",
      " ' the toughest is acting Happy with all unspoken pain inside..\\\\\"\"'\n",
      " ' smoke hella weed\\\\\"\"' '\\\\\" not \\\\\"what i need to do.\\\\\"\"'\n",
      " 'JUST GOT PAYED2DAY & I HAVBEEN GIVEN Aå£50 PAY RISE 4MY WORK & HAVEBEEN MADE PRESCHOOLCO-ORDINATOR 2I AM FEELINGOOD LUV\\\\\"\"'\n",
      " ' justthought iåÕd sayhey! how u doin?nearly the endof me wk offdam nevamind!We will have 2Hook up sn if uwant m8? loveJen x.\\\\\"\"'\n",
      " 'JUST REALLYNEED 2DOCD.PLEASE DONTPLEASE DONTIGNORE MYCALLS'\n",
      " 'u hav2hear it!c u sn xxxx\\\\\"\"' \" I don't mind\"\n",
      " ' Dont Come Near My Body..!! Bcoz My Hands May Not Come 2 Wipe Ur Tears Off That Time..!Gud ni8\"'\n",
      " \"Well there's still a bit left if you guys want to tonight\"\n",
      " ' but dont try to prove\\\\\" ..... Gud mrng...\"'\n",
      " ' SHE SHUDVETOLD U. DID URGRAN KNOW?NEWAY'\n",
      " ' but watever u shared should be true\\\\\"....\"'\n",
      " ' like you are the KING\\\\\"...! OR \\\\\"Walk like you Dont care'\n",
      " ' HAD A COOL NYTHO' ' PO Box 1146 MK45 2WT (2/3)\"'\n",
      " ' \\\\\"It is d wonderful fruit that a tree gives when it is being hurt by a stone.. Good night......\"'\n",
      " ' we made you hold all the weed\\\\\"\"'\n",
      " ' but dont try to prove it..\\\\\" .Gud noon....\"'\n",
      " ' its a miracle to Love a person who can\\'t Love anyone except U...\\\\\" Gud nyt...\"'\n",
      " ' Gud night....\"' ' that\\'s the tiny street where the parking lot is\"'\n",
      " 'PROBPOP IN & CU SATTHEN HUNNY 4BREKKIE! LOVE JEN XXX. PSXTRA LRG PORTIONS 4 ME PLEASE \\\\\"\"'\n",
      " ' hopeSo hunny. i amnow feelin ill & ithink i may have tonsolitusaswell! damn iam layin in bedreal bored. lotsof luv me xxxx\\\\\"\"'\n",
      " ' GOD said'\n",
      " ' always give response 2 who cares 4 U\\\\\"... Gud night..swt dreams..take care\"'\n",
      " ' HOPE UR OK... WILL GIVE U A BUZ WEDLUNCH. GO OUTSOMEWHERE 4 ADRINK IN TOWN..CUD GO 2WATERSHD 4 A BIT? PPL FROMWRK WILL BTHERE. LOVE PETEXXX.\\\\\"\"'\n",
      " ' b\\'coz nobody will fight for u. Only u &amp; u have to fight for ur self &amp; win the battle. -VIVEKANAND- G 9t.. SD..\"'\n",
      " 'DEVIOUSBITCH.ANYWAY'\n",
      " ' ENJOYIN INDIANS AT THE MO..yeP. SaLL gOoD HehE ;> hows bout u shexy? Pete Xx\\\\\"\"']\n",
      "Column Name :  Unnamed: 3\n",
      "Column Contents :  [nan ' MK17 92H. 450Ppw 16\"' ' why to miss them' 'GE'\n",
      " 'U NO THECD ISV.IMPORTANT TOME 4 2MORO\\\\\"\"'\n",
      " 'i wil tolerat.bcs ur my someone..... But'\n",
      " ' ILLSPEAK 2 U2MORO WEN IM NOT ASLEEP...\\\\\"\"'\n",
      " 'whoever is the KING\\\\\"!... Gud nyt\"' ' TX 4 FONIN HON'\n",
      " ' \\\\\"OH No! COMPETITION\\\\\". Who knew' 'IåÕL CALL U\\\\\"\"']\n",
      "Column Name :  Unnamed: 4\n",
      "Column Contents :  [nan ' just Keep-in-touch\\\\\" gdeve..\"' 'GNT:-)\"'\n",
      " ' Never comfort me with a lie\\\\\" gud ni8 and sweet dreams\"'\n",
      " ' CALL 2MWEN IM BK FRMCLOUD 9! J X\\\\\"\"'\n",
      " ' one day these two will become FREINDS FOREVER!\"']\n"
     ]
    }
   ],
   "source": [
    "unique_values_columns(spam)"
   ]
  },
  {
   "cell_type": "markdown",
   "id": "0f1937db",
   "metadata": {},
   "source": [
    "# Remove values different of NaN "
   ]
  },
  {
   "cell_type": "code",
   "execution_count": 219,
   "id": "be85f329",
   "metadata": {},
   "outputs": [],
   "source": [
    "spam = spam[spam['Unnamed: 2'].isnull()]\n",
    "spam = spam[spam['Unnamed: 3'].isnull()]\n",
    "spam = spam[spam['Unnamed: 4'].isnull()]"
   ]
  },
  {
   "cell_type": "code",
   "execution_count": 220,
   "id": "5da96c1b",
   "metadata": {},
   "outputs": [
    {
     "name": "stdout",
     "output_type": "stream",
     "text": [
      "Column Name :  v1\n",
      "Column Contents :  ['ham' 'spam']\n",
      "Column Name :  v2\n",
      "Column Contents :  ['Go until jurong point, crazy.. Available only in bugis n great world la e buffet... Cine there got amore wat...'\n",
      " 'Ok lar... Joking wif u oni...'\n",
      " \"Free entry in 2 a wkly comp to win FA Cup final tkts 21st May 2005. Text FA to 87121 to receive entry question(std txt rate)T&C's apply 08452810075over18's\"\n",
      " ... 'Pity, * was in mood for that. So...any other suggestions?'\n",
      " \"The guy did some bitching but I acted like i'd be interested in buying something else next week and he gave it to us for free\"\n",
      " 'Rofl. Its true to its name']\n",
      "Column Name :  Unnamed: 2\n",
      "Column Contents :  [nan]\n",
      "Column Name :  Unnamed: 3\n",
      "Column Contents :  [nan]\n",
      "Column Name :  Unnamed: 4\n",
      "Column Contents :  [nan]\n"
     ]
    }
   ],
   "source": [
    "unique_values_columns(spam)"
   ]
  },
  {
   "cell_type": "markdown",
   "id": "b029af93",
   "metadata": {},
   "source": [
    "# Drop columns"
   ]
  },
  {
   "cell_type": "code",
   "execution_count": 221,
   "id": "991ab19f",
   "metadata": {},
   "outputs": [
    {
     "data": {
      "text/html": [
       "<div>\n",
       "<style scoped>\n",
       "    .dataframe tbody tr th:only-of-type {\n",
       "        vertical-align: middle;\n",
       "    }\n",
       "\n",
       "    .dataframe tbody tr th {\n",
       "        vertical-align: top;\n",
       "    }\n",
       "\n",
       "    .dataframe thead th {\n",
       "        text-align: right;\n",
       "    }\n",
       "</style>\n",
       "<table border=\"1\" class=\"dataframe\">\n",
       "  <thead>\n",
       "    <tr style=\"text-align: right;\">\n",
       "      <th></th>\n",
       "      <th>v1</th>\n",
       "      <th>v2</th>\n",
       "    </tr>\n",
       "  </thead>\n",
       "  <tbody>\n",
       "    <tr>\n",
       "      <th>0</th>\n",
       "      <td>ham</td>\n",
       "      <td>Go until jurong point, crazy.. Available only ...</td>\n",
       "    </tr>\n",
       "    <tr>\n",
       "      <th>1</th>\n",
       "      <td>ham</td>\n",
       "      <td>Ok lar... Joking wif u oni...</td>\n",
       "    </tr>\n",
       "    <tr>\n",
       "      <th>2</th>\n",
       "      <td>spam</td>\n",
       "      <td>Free entry in 2 a wkly comp to win FA Cup fina...</td>\n",
       "    </tr>\n",
       "    <tr>\n",
       "      <th>3</th>\n",
       "      <td>ham</td>\n",
       "      <td>U dun say so early hor... U c already then say...</td>\n",
       "    </tr>\n",
       "    <tr>\n",
       "      <th>4</th>\n",
       "      <td>ham</td>\n",
       "      <td>Nah I don't think he goes to usf, he lives aro...</td>\n",
       "    </tr>\n",
       "  </tbody>\n",
       "</table>\n",
       "</div>"
      ],
      "text/plain": [
       "     v1                                                 v2\n",
       "0   ham  Go until jurong point, crazy.. Available only ...\n",
       "1   ham                      Ok lar... Joking wif u oni...\n",
       "2  spam  Free entry in 2 a wkly comp to win FA Cup fina...\n",
       "3   ham  U dun say so early hor... U c already then say...\n",
       "4   ham  Nah I don't think he goes to usf, he lives aro..."
      ]
     },
     "execution_count": 221,
     "metadata": {},
     "output_type": "execute_result"
    }
   ],
   "source": [
    "# delete the column 'Locations'\n",
    "del spam['Unnamed: 2']\n",
    "del spam['Unnamed: 3']\n",
    "del spam['Unnamed: 4']\n",
    "spam.head()"
   ]
  },
  {
   "cell_type": "code",
   "execution_count": 222,
   "id": "32dc4add",
   "metadata": {},
   "outputs": [
    {
     "data": {
      "text/plain": [
       "(5522, 2)"
      ]
     },
     "execution_count": 222,
     "metadata": {},
     "output_type": "execute_result"
    }
   ],
   "source": [
    "spam.shape"
   ]
  },
  {
   "cell_type": "code",
   "execution_count": 225,
   "id": "e5da05c2",
   "metadata": {},
   "outputs": [],
   "source": [
    "spam = spam.astype(str).apply(lambda x: x.str.lower())"
   ]
  },
  {
   "cell_type": "code",
   "execution_count": 226,
   "id": "94540733",
   "metadata": {},
   "outputs": [
    {
     "data": {
      "text/html": [
       "<div>\n",
       "<style scoped>\n",
       "    .dataframe tbody tr th:only-of-type {\n",
       "        vertical-align: middle;\n",
       "    }\n",
       "\n",
       "    .dataframe tbody tr th {\n",
       "        vertical-align: top;\n",
       "    }\n",
       "\n",
       "    .dataframe thead th {\n",
       "        text-align: right;\n",
       "    }\n",
       "</style>\n",
       "<table border=\"1\" class=\"dataframe\">\n",
       "  <thead>\n",
       "    <tr style=\"text-align: right;\">\n",
       "      <th></th>\n",
       "      <th>v1</th>\n",
       "      <th>v2</th>\n",
       "    </tr>\n",
       "  </thead>\n",
       "  <tbody>\n",
       "    <tr>\n",
       "      <th>0</th>\n",
       "      <td>ham</td>\n",
       "      <td>go until jurong point, crazy.. available only ...</td>\n",
       "    </tr>\n",
       "    <tr>\n",
       "      <th>1</th>\n",
       "      <td>ham</td>\n",
       "      <td>ok lar... joking wif u oni...</td>\n",
       "    </tr>\n",
       "    <tr>\n",
       "      <th>2</th>\n",
       "      <td>spam</td>\n",
       "      <td>free entry in 2 a wkly comp to win fa cup fina...</td>\n",
       "    </tr>\n",
       "    <tr>\n",
       "      <th>3</th>\n",
       "      <td>ham</td>\n",
       "      <td>u dun say so early hor... u c already then say...</td>\n",
       "    </tr>\n",
       "    <tr>\n",
       "      <th>4</th>\n",
       "      <td>ham</td>\n",
       "      <td>nah i don't think he goes to usf, he lives aro...</td>\n",
       "    </tr>\n",
       "  </tbody>\n",
       "</table>\n",
       "</div>"
      ],
      "text/plain": [
       "     v1                                                 v2\n",
       "0   ham  go until jurong point, crazy.. available only ...\n",
       "1   ham                      ok lar... joking wif u oni...\n",
       "2  spam  free entry in 2 a wkly comp to win fa cup fina...\n",
       "3   ham  u dun say so early hor... u c already then say...\n",
       "4   ham  nah i don't think he goes to usf, he lives aro..."
      ]
     },
     "execution_count": 226,
     "metadata": {},
     "output_type": "execute_result"
    }
   ],
   "source": [
    "spam.head()"
   ]
  },
  {
   "cell_type": "code",
   "execution_count": 227,
   "id": "8885fcf9",
   "metadata": {},
   "outputs": [],
   "source": [
    "spam['v2'] = spam['v2'].str.replace(\"[^a-zA-Z]\", ' ',regex=True)"
   ]
  },
  {
   "cell_type": "code",
   "execution_count": 228,
   "id": "cf0ab4cd",
   "metadata": {},
   "outputs": [],
   "source": [
    "spam['v1'] = spam['v1'].str.strip()\n",
    "spam['v2'] = spam['v2'].str.strip()"
   ]
  },
  {
   "cell_type": "code",
   "execution_count": 231,
   "id": "2acdbd2a",
   "metadata": {},
   "outputs": [
    {
     "name": "stdout",
     "output_type": "stream",
     "text": [
      "        v1                                                 v2\n",
      "0      ham  go until jurong point  crazy   available only ...\n",
      "1      ham                         ok lar    joking wif u oni\n",
      "2     spam  free entry in   a wkly comp to win fa cup fina...\n",
      "3      ham     u dun say so early hor    u c already then say\n",
      "4      ham  nah i don t think he goes to usf  he lives aro...\n",
      "...    ...                                                ...\n",
      "5567  spam  this is the  nd time we have tried   contact u...\n",
      "5568   ham               will    b going to esplanade fr home\n",
      "5569   ham  pity    was in mood for that  so   any other s...\n",
      "5570   ham  the guy did some bitching but i acted like i d...\n",
      "5571   ham                         rofl  its true to its name\n",
      "\n",
      "[5522 rows x 2 columns]\n"
     ]
    }
   ],
   "source": [
    "spam = spam.astype(str).apply(lambda x: x.str.strip())\n",
    "print(spam)"
   ]
  },
  {
   "cell_type": "code",
   "execution_count": 232,
   "id": "f7287f18",
   "metadata": {},
   "outputs": [],
   "source": [
    "def dictionary_from_dataset(dataset):\n",
    "    count_words = {}\n",
    "    for ind in dataset.index:\n",
    "        words = dataset['v2'][ind].split(' ')\n",
    "        for word in words:\n",
    "            if word in count_words:\n",
    "                count_words[word] += 1  \n",
    "            else:\n",
    "                count_words[word] = 1\n",
    "    return count_words"
   ]
  },
  {
   "cell_type": "code",
   "execution_count": 234,
   "id": "782f3eac",
   "metadata": {},
   "outputs": [
    {
     "name": "stdout",
     "output_type": "stream",
     "text": [
      "7632\n",
      "3008\n"
     ]
    }
   ],
   "source": [
    "dictionary = dictionary_from_dataset(spam)\n",
    "print(len(dictionary))\n",
    "print(dictionary['i'])"
   ]
  },
  {
   "cell_type": "code",
   "execution_count": 237,
   "id": "7ccf7673",
   "metadata": {},
   "outputs": [
    {
     "data": {
      "text/plain": [
       "dict_keys(['go', 'until', 'jurong', 'point', '', 'crazy', 'available', 'only', 'in', 'bugis', 'n', 'great', 'world', 'la', 'e', 'buffet', 'cine', 'there', 'got', 'amore', 'wat', 'ok', 'lar', 'joking', 'wif', 'u', 'oni', 'free', 'entry', 'a', 'wkly', 'comp', 'to', 'win', 'fa', 'cup', 'final', 'tkts', 'st', 'may', 'text', 'receive', 'question', 'std', 'txt', 'rate', 't', 'c', 's', 'apply', 'over', 'dun', 'say', 'so', 'early', 'hor', 'already', 'then', 'nah', 'i', 'don', 'think', 'he', 'goes', 'usf', 'lives', 'around', 'here', 'though', 'freemsg', 'hey', 'darling', 'it', 'been', 'week', 'now', 'and', 'no', 'word', 'back', 'd', 'like', 'some', 'fun', 'you', 'up', 'for', 'still', 'tb', 'xxx', 'chgs', 'send', 'rcv', 'even', 'my', 'brother', 'is', 'not', 'speak', 'with', 'me', 'they', 'treat', 'aids', 'patent', 'as', 'per', 'your', 'request', 'melle', 'oru', 'minnaminunginte', 'nurungu', 'vettam', 'has', 'set', 'callertune', 'all', 'callers', 'press', 'copy', 'friends', 'winner', 'valued', 'network', 'customer', 'have', 'selected', 'receivea', 'prize', 'reward', 'claim', 'call', 'code', 'kl', 'valid', 'hours', 'had', 'mobile', 'months', 'or', 'more', 'r', 'entitled', 'update', 'the', 'latest', 'colour', 'mobiles', 'camera', 'co', 'on', 'm', 'gonna', 'be', 'home', 'soon', 'want', 'talk', 'about', 'this', 'stuff', 'anymore', 'tonight', 'k', 've', 'cried', 'enough', 'today', 'six', 'chances', 'cash', 'from', 'pounds', 'csh', 'cost', 'p', 'day', 'days', 'tsandcs', 'reply', 'hl', 'info', 'urgent', 'won', 'membership', 'our', 'jackpot', 'www', 'dbuk', 'net', 'lccltd', 'pobox', 'ldnw', 'rw', 'searching', 'right', 'words', 'thank', 'breather', 'promise', 'wont', 'take', 'help', 'granted', 'will', 'fulfil', 'wonderful', 'blessing', 'at', 'times', 'date', 'sunday', 'xxxmobilemovieclub', 'use', 'credit', 'click', 'wap', 'link', 'next', 'message', 'http', 'com', 'qjkgighjjgcbl', 'oh', 'watching', 'eh', 'remember', 'how', 'spell', 'his', 'name', 'yes', 'did', 'v', 'naughty', 'make', 'wet', 'fine', 'if', 'that', 'way', 'feel', 'its', 'gota', 'b', 'england', 'macedonia', 'dont', 'miss', 'goals', 'team', 'news', 'ur', 'national', 'eg', 'try', 'wales', 'scotland', 'poboxox', 'w', 'wq', 'seriously', 'going', 'ha', 'pay', 'first', 'when', 'da', 'stock', 'comin', 'aft', 'finish', 'lunch', 'str', 'down', 'lor', 'ard', 'smth', 'ffffffffff', 'alright', 'can', 'meet', 'sooner', 'just', 'forced', 'myself', 'eat', 'slice', 'really', 'hungry', 'tho', 'sucks', 'mark', 'getting', 'worried', 'knows', 'sick', 'turn', 'pizza', 'lol', 'always', 'convincing', 'catch', 'bus', 'are', 'frying', 'an', 'egg', 'tea', 'eating', 'mom', 'left', 'dinner', 'do', 'love', 'amp', 'we', 're', 'packing', 'car', 'll', 'let', 'know', 'room', 'ahhh', 'work', 'vaguely', 'what', 'does', 'wait', 'clear', 'were', 'sure', 'being', 'sarcastic', 'why', 'x', 'doesn', 'live', 'us', 'yeah', 'was', 'apologetic', 'fallen', 'out', 'she', 'actin', 'spoilt', 'child', 'caught', 'till', 'but', 'doing', 'too', 'badly', 'cheers', 'tell', 'anything', 'fear', 'of', 'fainting', 'housework', 'quick', 'cuppa', 'thanks', 'subscription', 'ringtone', 'uk', 'charged', 'month', 'please', 'confirm', 'by', 'replying', 'yup', 'look', 'timings', 'msg', 'again', 'xuhui', 'learn', 'nd', 'her', 'lesson', 'am', 'oops', 'roommate', 'done', 'see', 'letter', 'decide', 'hello', 'saturday', 'texting', 'decided', 'tomo', 'trying', 'invite', 'pls', 'ahead', 'watts', 'wanted', 'weekend', 'abiola', 'forget', 'need', 'crave', 'most', 'sweet', 'arabian', 'steed', 'mmmmmm', 'yummy', 'rodger', 'burns', 'tried', 'sms', 'nokia', 'camcorder', 'delivery', 'tomorrow', 'who', 'seeing', 'hope', 'man', 'well', 'endowed', 'lt', 'gt', 'inches', 'calls', 'messages', 'missed', 'didn', 'get', 'hep', 'immunisation', 'nigeria', 'fair', 'hopefully', 'tyler', 'could', 'maybe', 'ask', 'bit', 'stubborn', 'hospital', 'kept', 'telling', 'weak', 'sucker', 'hospitals', 'suckers', 'thinked', 'time', 'saw', 'class', 'gram', 'usually', 'runs', 'half', 'eighth', 'smarter', 'gets', 'almost', 'whole', 'second', 'fyi', 'ride', 'morning', 'crashing', 'place', 'wow', 'never', 'realized', 'embarassed', 'accomodations', 'thought', 'liked', 'since', 'best', 'seemed', 'happy', 'cave', 'sorry', 'give', 'offered', 'embarassing', 'ac', 'sptv', 'new', 'jersey', 'devils', 'detroit', 'red', 'wings', 'play', 'ice', 'hockey', 'correct', 'incorrect', 'end', 'mallika', 'sherawat', 'yesterday', 'find', 'url', 'congrats', 'year', 'special', 'cinema', 'pass', 'yours', 'suprman', 'matrix', 'starwars', 'etc', 'bx', 'ip', 'pm', 'later', 'meeting', 'where', 'reached', 'gauti', 'sehwag', 'odi', 'series', 'pick', 'burger', 'yourself', 'move', 'pain', 'killing', 'good', 'joke', 'girls', 'situation', 'seekers', 'part', 'checking', 'iq', 'roommates', 'took', 'forever', 'come', 'double', 'check', 'hair', 'dresser', 'said', 'wun', 'cut', 'short', 'nice', 'pleased', 'advise', 'following', 'recent', 'review', 'mob', 'awarded', 'bonus', 'song', 'dedicated', 'which', 'dedicate', 'valuable', 'frnds', 'rply', 'complimentary', 'trip', 'eurodisinc', 'trav', 'aco', 'dis', 'morefrmmob', 'shracomorsglsuplt', 'ls', 'aj', 'hear', 'divorce', 'barbie', 'comes', 'ken', 'plane', 'wah', 'lucky', 'save', 'money', 'hee', 'finished', 'hi', 'babe', 'im', 'wanna', 'something', 'xx', 'performed', 'waiting', 'machan', 'once', 'thats', 'cool', 'gentleman', 'dignity', 'respect', 'peoples', 'very', 'much', 'shy', 'pa', 'operate', 'after', 'same', 'looking', 'job', 'ta', 'earn', 'ah', 'stop', 'urgnt', 'real', 'yo', 'tickets', 'one', 'jacket', 'used', 'multis', 'started', 'requests', 'came', 'bed', 'coins', 'factory', 'gotta', 'nitros', 'ela', 'kano', 'il', 'download', 'wen', 'stand', 'close', 'another', 'night', 'spent', 'late', 'afternoon', 'casualty', 'means', 'haven', 'any', 'y', 'moro', 'includes', 'sheets', 'smile', 'pleasure', 'trouble', 'pours', 'rain', 'sum', 'hurts', 'becoz', 'someone', 'loves', 'smiling', 'service', 'representative', 'between', 'guaranteed', 'havent', 'planning', 'buy', 'lido', 'show', 'telugu', 'movie', 'abt', 'loads', 'loans', 'wk', 'hols', 'run', 'forgot', 'hairdressers', 'appointment', 'four', 'shower', 'beforehand', 'cause', 'prob', 'ham', 'nothing', 'else', 'okay', 'price', 'long', 'legal', 'them', 'ave', 'ams', 'gone', 'driving', 'test', 'yet', 'mean', 'guess', 'gave', 'boston', 'men', 'changed', 'search', 'location', 'nyc', 'cuz', 'signin', 'page', 'says', 'umma', 'life', 'vava', 'lot', 'dear', 'wishes', 'birthday', 'making', 'truly', 'memorable', 'aight', 'hit', 'would', 'address', 'considering', 'computer', 'isn', 'minecraft', 'server', 'grumpy', 'old', 'people', 'better', 'lying', 'jokes', 'worry', 'busy', 'plural', 'noun', 'research', 'cos', 'things', 'scared', 'mah', 'loud', 'gent', 'contact', 'last', 'weekends', 'draw', 'shows', 'hrs', 'ppm', 'wa', 'openin', 'sentence', 'formal', 'anyway', 'juz', 'tt', 'eatin', 'puttin', 'weight', 'haha', 'anythin', 'happened', 'entered', 'cabin', 'boss', 'felt', 'askd', 'invited', 'apartment', 'went', 'specially', 'holiday', 'flights', 'inc', 'operator', 'min', 'goodo', 'must', 'friday', 'potato', 'ratio', 'tortilla', 'needed', 'hmm', 'uncle', 'informed', 'paying', 'school', 'directly', 'food', 'private', 'account', 'statement', 'unredeemed', 'points', 'identifier', 'expires', 'caller', 'landline', 'box', 'wr', 'apples', 'pairs', 'malarky', 'todays', 'voda', 'numbers', 'ending', 'award', 'match', 'quoting', 'standard', 'rates', 'app', 'sao', 'mu', 'predict', 'buying', 'yetunde', 'hasn', 'sent', 'bother', 'sending', 'involve', 'shouldn', 'imposed', 'apologise', 'girl', 'del', 'bak', 'lucyxx', 'tmorrow', 'accomodate', 'answer', 'sunshine', 'quiz', 'q', 'top', 'sony', 'dvd', 'player', 'country', 'algarve', 'ansr', 'sp', 'tyrone', 'laid', 'dogging', 'locations', 'direct', 'join', 'largest', 'bt', 'txting', 'gravel', 'nt', 'ec', 'haf', 'msn', 'yijue', 'hotmail', 'him', 'rooms', 'befor', 'activities', 'msgs', 'chat', 'svc', 'hardcore', 'services', 'age', 'verify', 'yr', 'lazy', 'type', 'lect', 'pouch', 'sir', 'mail', 'swt', 'nver', 'tired', 'little', 'lovable', 'persons', 'coz', 'somtimes', 'those', 'occupy', 'biggest', 'their', 'hearts', 'gud', 'ni', 'open', 'ya', 'dot', 'whats', 'staff', 'taking', 'replied', 'randy', 'sexy', 'female', 'local', 'luv', 'netcollex', 'ltd', 'ummma', 'begin', 'qatar', 'pray', 'hard', 'deleted', 'sindu', 'birla', 'soft', 'wine', 'flowing', 'nevering', 'thk', 'plaza', 'typical', 'everywhere', 'dirt', 'floor', 'windows', 'shirt', 'sometimes', 'mouth', 'dream', 'without', 'chores', 'joy', 'lots', 'tv', 'exist', 'hail', 'mist', 'become', 'aaooooright', 'leaving', 'house', 'interview', 'boy', 'missing', 'annoncement', 'years', 'arrange', 'keep', 'safe', 'because', 'envy', 'everyone', 'parents', 'hand', 'excited', 'each', 'spend', 'bootydelious', 'f', 'inviting', 'friend', 'frnd', 'bangbabes', 'order', 'should', 'content', 'goto', 'bangb', 'internet', 'menu', 'cultures', 'module', 'avoid', 'missunderstding', 'wit', 'beloved', 'escape', 'fancy', 'bridge', 'needs', 'lager', 'completely', 'form', 'clark', 'also', 'utter', 'waste', 'axis', 'bank', 'hmmm', 'hop', 'muz', 'discuss', 'liao', 'coming', 'bloody', 'hell', 'cant', 'believe', 'surname', 'mr', 'ill', 'clue', 'spanish', 'begins', 'bath', 'carlos', 'mall', 'turns', 'staying', 'til', 'smoke', 'worth', 'doesnt', 'log', 'spoke', 'maneesha', 'satisfied', 'experience', 'toll', 'lifted', 'hopes', 'offer', 'especially', 'approaches', 'studying', 'anyways', 'gr', 'trust', 'guys', 'bye', 'handsome', 'finding', 'working', 'towards', 'mummy', 'boytoy', 'awesome', 'minute', 'freephone', 'xmas', 'radio', 'jus', 'bathe', 'sis', 'using', 'finishes', 'unique', 'th', 'august', 'areyouunique', 'joined', 'league', 'touch', 'deal', 'personal', 'finally', 'completed', 'course', 'itself', 'however', 'suggest', 'stays', 'able', 'ors', 'every', 'stool', 'settled', 'wishin', 'mrng', 'hav', 'story', 'hamster', 'dead', 'tmr', 'orchard', 'mrt', 'kate', 'evening', 'babyjontet', 'found', 'enc', 'bucks', 'darlin', 'ive', 'college', 'refilled', 'successfully', 'inr', 'decimal', 'keralacircle', 'prepaid', 'balance', 'rs', 'transaction', 'id', 'kr', 'goodmorning', 'sleeping', 'ga', 'alter', 'dat', 'ericsson', 'oso', 'cannot', 'oredi', 'dats', 'straight', 'dogg', 'connection', 'before', 'refund', 'bill', 'both', 'shoot', 'big', 'ready', 'bruv', 'break', 'rewarding', 'semester', 'study', 'noe', 'leh', 'sounds', 'heading', 'prediction', 'slept', 'past', 'few', 'nights', 'easy', 'sen', 'exam', 'march', 'atm', 'register', 'os', 'called', 'ubandu', 'installing', 'disk', 'important', 'files', 'system', 'repair', 'shop', 'happen', 'romantic', 'nite', 'scenery', 'collect', 'tc', 'biz', 'optout', 'gbp', 'mtmsg', 'appreciate', 'partner', 'career', 'off', 'flyng', 'start', 'horo', 'followed', 'star', 'sign', 'g', 'aries', 'company', 'elama', 'po', 'mudyadhu', 'strict', 'than', 'teacher', 'bcoz', 'teaches', 'conducts', 'lessons', 'gandhipuram', 'walk', 'cross', 'road', 'side', 'street', 'rubber', 'battery', 'died', 'flirt', 'sam', 'recd', 'thirtyeight', 'pence', 'printed', 'upstairs', 'closer', 'wil', 'reach', 'theory', 'argument', 'wins', 'loses', 'person', 'argue', 'kick', 'secret', 'admirer', 'reveal', 'thinks', 'tomarrow', 'hearing', 'laptop', 'case', 'pleassssssseeeeee', 'tel', 'avent', 'sportsx', 'shining', 'meant', 'signing', 'although', 'told', 'into', 'baig', 'face', 'watches', 'watch', 'fr', 'thanx', 'everything', 'touched', 'commercial', 'website', 'slippers', 'asked', 'kallis', 'bat', 'innings', 'didnt', 'goodnight', 'fix', 'wake', 'dearly', 'sleep', 'congratulations', 'cd', 'vouchers', 'gift', 'music', 'tncs', 'ldew', 'ppmx', 'ranjith', 'cal', 'drpd', 'deeraj', 'deepak', 'hold', 'bcums', 'angry', 'wid', 'dnt', 'childish', 'true', 'showing', 'deep', 'affection', 'care', 'kettoda', 'manda', 'ups', 'shipping', 'takes', 'wks', 'other', 'usps', 'lag', 'bribe', 'nipost', 'lemme', 'necessarily', 'expect', 'headin', 'mmm', 'jolt', 'suzy', 'lover', 'video', 'handset', 'anytime', 'networks', 'mins', 'unlimited', 'parked', 'mini', 'shopping', 'own', 'disturb', 'luton', 'ring', 'h', 'horny', 'naked', 'hot', 'unsubscribe', 'dint', 'wana', 'plan', 'sometme', 'credits', 'club', 'choose', 'mk', 'wt', 'evo', 'flash', 'jealous', 'singles', 'chart', 'quality', 'charge', 'sorting', 'narcotics', 'ended', 'sunny', 'rays', 'leaves', 'worries', 'blue', 'bay', 'hmv', 'genuine', 'questions', 'percent', 'might', 'objection', 'bf', 'rob', 'mack', 'gf', 'theater', 'handed', 'celebrations', 'full', 'swing', 'tool', 'far', 'okie', 'usual', 'guy', 'passed', 'ahold', 'anybody', 'throw', 'lets', 'baby', 'cruisin', 'hour', 'fone', 'jenny', 'ge', 'shall', 'tonite', 'varunnathu', 'edukkukayee', 'raksha', 'ollu', 'sense', 'gautham', 'stupid', 'cam', 'buzy', 'accidentally', 'resend', 'phone', 'upgrade', 'sim', 'card', 'loyalty', 'ends', 'thfeb', 'unless', 'gurl', 'appropriate', 'hurt', 'tease', 'cry', 'die', 'plz', 'rose', 'grave', 'bslvyl', 'coffee', 'somebody', 'high', 'diesel', 'shit', 'shocking', 'scary', 'imagine', 'def', 'somewhere', 'crash', 'taxi', 'fridge', 'meal', 'womdarfull', 'actor', 'blind', 'rodds', 'aberdeen', 'united', 'kingdom', 'img', 'icmb', 'cktz', 'dates', 'hide', 'remb', 'book', 'jos', 'friendship', 'hanging', 'thread', 'themob', 'newest', 'selection', 'games', 'tones', 'gossip', 'babes', 'sport', 'fit', 'funky', 'garage', 'keys', 'aren', 'bookshelf', 'accept', 'sister', 'clos', 'lvblefrnd', 'jstfrnd', 'cutefrnd', 'lifpartnr', 'belovd', 'swtheart', 'bstfrnd', 'enemy', 'smart', 'weekly', 'cs', 'winnersclub', 'uz', 'definitely', 'normal', 'rest', 'mylife', 'wot', 'lost', 'made', 'advance', 'pongal', 'kb', 'power', 'yoga', 'dunno', 'tahan', 'anot', 'lo', 'dude', 'afraid', 'december', 'mths', 'cake', 'merry', 'christmas', 'kisses', 'cud', 'ppl', 'gona', 'l', 'buses', 'gon', 'waitin', 'pete', 'guild', 'bristol', 'plans', 'flight', 'problem', 'track', 'record', 'reading', 'women', 'read', 'light', 'apo', 'return', 'immediately', 'germany', 'fixed', 'line', 'via', 'access', 'number', 'prepayment', 'chance', 'evaporated', 'violated', 'privacy', 'stealing', 'employer', 'paperwork', 'report', 'supervisor', 'valentines', 'lifetime', 'rcvd', 'custcare', 'daaaaa', 'wined', 'dined', 'surfing', 'calling', 'post', 'texts', 'wiv', 'caroline', 'favourite', 'bless', 'hiding', 'stranger', 'interested', 'cleared', 'two', 'round', 'gudnite', 'practice', 'huiming', 'num', 'small', 'prestige', 'shag', 'sextextuk', 'xxuk', 'txts', 'jeremiah', 'iphone', 'apeshit', 'ever', 'misbehaved', 'slap', 'urself', 'fault', 'basically', 'figure', 'alcohol', 'jay', 'safely', 'weed', 'ish', 'minutes', 'ago', 'wtf', 'onam', 'sirji', 'remembered', 'met', 'insurance', 'insha', 'allah', 'rakhesh', 'ex', 'tata', 'aig', 'tissco', 'tayseer', 'currently', 'maximize', 'cc', 'hg', 'suite', 'lands', 'row', 'j', 'unemployed', 'moment', 'andrews', 'cold', 'posted', 'chikku', 'db', 'audrey', 'status', 'forward', 'dawns', 'refreshed', 'alive', 'breathe', 'air', 'z', 'motorola', 'sonyericsson', 'bluetooth', 'orange', 'mobileupd', 'discount', 'rp', 'further', 'regalportfolio', 'uniform', 'geeee', 'woke', 'wish', 'cuddling', 'spoil', 'talking', 'agree', 'willing', 'reference', 'seen', 'recognise', 'happening', 'lindsay', 'sighs', 'bars', 'ptbo', 'heron', 'payasam', 'rinu', 'brings', 'taught', 'becaus', 'hes', 'verifying', 'project', 'prabu', 'mistake', 'body', 'repairs', 'quite', 'slow', 'tests', 'guide', 'ovulation', 'relax', 'reason', 'followin', 'couple', 'wallet', 'leave', 'phones', 'dx', 'owl', 'licks', 'mm', 'rental', 'mobilesdirect', 'stoptxt', 'having', 'huh', 'sat', 'intro', 'pilates', 'kickboxing', 'office', 'lap', 'shut', 'bout', 'performance', 'calculated', 'current', 'period', 'actually', 'rock', 'putting', 'business', 'put', 'pictures', 'ass', 'facebook', 'picture', 'al', 'salam', 'wahleykkum', 'sharing', 'grace', 'god', 'inshah', 'sometime', 'visitor', 'india', 'change', 'field', 'quickly', 'administrator', 'poly', 'tone', 'pw', 'chechi', 'cream', 'shipped', 'none', 'yep', 'loxahatchee', 'tree', 'burning', 'starts', 'stoners', 'slightly', 'disastrous', 'fav', 'darlings', 'wld', 'stay', 'drink', 'busetop', 'sender', 'fullonsms', 'iron', 'thing', 'okies', 'yan', 'jiu', 'skip', 'den', 'blah', 'bring', 'wendy', 'dating', 'sk', 'ch', 'whatsup', 'goal', 'competition', 'txttowin', 'head', 'logo', 'names', 'heart', 'mobno', 'adam', 'eve', 'yahoo', 'txtno', 'ads', 'contacted', 'tf', 'siva', 'hostel', 'aha', 'land', 'voice', 'speaking', 'expression', 'sentiment', 'rowdy', 'ful', 'attitude', 'attractive', 'funny', 'irritating', 'aathi', 'urination', 'esplanade', 'mind', 'giving', 'lift', 'wnt', 'bmw', 'urgently', 'vry', 'hv', 'shortage', 'lacs', 'source', 'arng', 'amt', 'fifteen', 'fucking', 'respond', 'vary', 'bcm', 'ldn', 'wc', 'booked', 'ticket', 'hillsborough', 'askin', 'dollars', 'shoul', 'iouri', 'ten', 'applebees', 'journey', 'hasnt', 'gd', 'bhaji', 'cricketer', 'sachin', 'tough', 'supposed', 'oic', 'tot', 'din', 'group', 'blimey', 'exercise', 'kinda', 'concentration', 'hanks', 'lotsly', 'detail', 'transfer', 'acc', 'optimistic', 'improve', 'loan', 'purpose', 'homeowners', 'tenants', 'welcome', 'previously', 'refused', 'si', 'oreo', 'truffles', 'amy', 'ure', 'beautiful', 'intelligent', 'woman', 'result', 'consistently', 'kind', 'asking', 'practicum', 'links', 'ears', 'ttyl', 'isnt', 'bad', 'thru', 'different', 'feeling', 'wavering', 'decisions', 'coping', 'individual', 'heal', 'gives', 'reasons', 'upgrdcentre', 'july', 'opt', 'railway', 'princess', 'receiving', 'oral', 'doggy', 'style', 'fave', 'position', 'enjoy', 'roads', 'slippery', 'bike', 'many', 'language', 'okmail', 'dave', 'notice', 'tenerife', 'tcs', 'sae', 'cw', 'wx', 'screamed', 'enters', 'remove', 'flat', 'transfered', 'removed', 'banks', 'differ', 'charges', 'ja', 'details', 'moan', 'nyt', 'broken', 'cum', 'infront', 'wise', 'tension', 'machi', 'thinking', 'mcr', 'sec', 'taste', 'fb', 'jaykwon', 'thuglyfe', 'falconerf', 'activate', 'terms', 'conditions', 'visit', 'depends', 'boye', 'faded', 'glory', 'ralphs', 'dry', 'trade', 'reunion', 'meh', 'nope', 'monday', 'accenture', 'jackson', 'rec', 'center', 'reache', 'fighting', 'either', 'lose', 'fightng', 'dificult', 'nuerologist', 'lolnice', 'fish', 'water', 'bored', 'outside', 'westshore', 'hyde', 'park', 'village', 'near', 'anthony', 'bringing', 'fees', 'rent', 'significance', 'opinion', 'jada', 'kusruthi', 'silent', 'spl', 'character', 'matured', 'stylish', 'simple', 'scrounge', 'ammo', 'ak', 'prabha', 'soryda', 'realy', 'frm', 'sory', 'forgiven', 'jst', 'tat', 'gb', 'ipod', 'mp', 'ibhltd', 'mtmsgrcvd', 'boltblue', 'mono', 'cha', 'slide', 'jamz', 'toxic', 'topped', 'bubbletext', 'renewal', 'pin', 'tgxxrz', 'transport', 'less', 'problematic', 'bday', 'definite', 'nos', 'booking', 'fri', 'unconscious', 'children', 'adults', 'behave', 'abnormally', 'ebay', 'elsewhere', 'pickle', 'tacos', 'rude', 'campus', 'attempt', 'qu', 'mas', 'savamob', 'member', 'offers', 'sub', 'unsub', 'pretty', 'lady', 'single', 'recieve', 'within', 'channel', 'teletext', 'pg', 'faggot', 'un', 'redeemed', 'while', 'hoping', 'malaria', 'bani', 'leads', 'passionate', 'kiss', 'across', 'sea', 'probably', 'fat', 'fingers', 'these', 'buttons', 'ummmmmaah', 'returns', 'tirupur', 'applausestore', 'monthlysubscription', 'max', 'csc', 'web', 'famous', 'quote', 'develop', 'ability', 'listen', 'unconditionally', 'losing', 'temper', 'self', 'confidence', 'married', 'oclock', 'mine', 'bash', 'recovery', 'rather', 'cooped', 'hotel', 'invitation', 'cali', 'english', 'bloke', 'weddin', 'omw', 'btw', 'alibi', 'cutting', 'sink', 'through', 'paces', 'cage', 'cock', 'surrounded', 'reminding', 'owns', 'cuck', 'hurry', 'deficient', 'three', 'acknowledgement', 'astoundingly', 'tactless', 'generally', 'faggy', 'demand', 'blood', 'oath', 'fo', 'warm', 'milk', 'magic', 'loose', 'pan', 'cheap', 'perhaps', 'silly', 'likely', 'o', 'uv', 'causes', 'mutations', 'sunscreen', 'essential', 'thesedays', 'online', 'pics', 'aiyo', 'mei', 'fast', 'workin', 'bao', 'sugardad', 'gee', 'brownie', 'geeeee', 'barely', 'fuck', 'mrw', 'ninish', 'icky', 'american', 'freek', 'callin', 'jen', 'oooh', 'ridden', 'ey', 'gym', 'whatever', 'smiles', 'daddy', 'scream', 'dick', 'missy', 'yar', 'mum', 'sch', 'clean', 'lab', 'goggles', 'door', 'arguing', 'claims', 'arngd', 'marriage', 'walkin', 'unfortuntly', 'snake', 'bites', 'dancing', 'frnt', 'sayin', 'bite', 'izzit', 'textand', 'wife', 'kids', 'jjc', 'tendencies', 'headache', 'quit', 'jazz', 'yogasana', 'em', 'meive', 'hardly', 'gotany', 'srsly', 'yi', 'spree', 'pound', 'lines', 'ag', 'promo', 'grand', 'prix', 'stands', 'nitz', 'announcement', 'exhausted', 'train', 'pie', 'present', 'ar', 'blastin', 'tsunamis', 'occur', 'rajnikant', 'stopped', 'swimming', 'indian', 'ocean', 'noon', 'xclusive', 'clubsaisai', 'morow', 'soiree', 'speciale', 'zouk', 'nichols', 'paris', 'roses', 'ladies', 'bridgwater', 'banter', 'neva', 'imma', 'somethin', 'euro', 'results', 'daily', 'valentine', 'game', 'answers', 'ques', 'suits', 'dependents', 'cer', 'often', 'future', 'hundreds', 'handsomes', 'beauties', 'aunties', 'uncles', 'shock', 'shuhui', 'leona', 'reaction', 'family', 'happiness', 'snow', 'weather', 'together', 'friendships', 'grow', 'dismay', 'alex', 'concerned', 'pub', 'bud', 'drinks', 'useful', 'officially', 'paid', 'market', 'tootsie', 'pop', 'longer', 'darren', 'textbuddy', 'area', 'postcode', 'gaytextbuddy', 'vodafone', 'matches', 'forwarded', 'seventeen', 'seven', 'hundred', 'ml', 'voucher', 'holder', 'weeks', 'pc', 'tlp', 'expressoffer', 'ts', 'sweetheart', 'biola', 'login', 'dad', 'fetching', 'restock', 'thanksgiving', 'sound', 'effects', 'gorgeous', 'brighten', 'wee', 'thursday', 'allo', 'braved', 'taken', 'trains', 'triumphed', 'jolly', 'cartoon', 'listening', 'temple', 'church', 'uncomfortable', 'email', 'rstm', 'sw', 'ss', 'gentle', 'sonetimes', 'rough', 'starting', 'panic', 'tuesday', 'wesleys', 'town', 'bet', 'hella', 'drugs', 'drug', 'dealer', 'impatient', 'sun', 'earth', 'cloud', 'river', 'evng', 'wikipedia', 'premium', 'under', 'lays', 'envelope', 'paper', 'repent', 'fetch', 'de', 'prepare', 'positions', 'kama', 'sutra', 'en', 'nange', 'bakra', 'kalstiya', 'lakhs', 'ho', 'belly', 'laugh', 'ditto', 'saying', 'peace', 'knw', 'wetherspoons', 'piggy', 'awake', 'freaky', 'yelling', 'scrappy', 'lonely', 'hex', 'explain', 'sdryb', 'xy', 'sue', 'lapdancer', 'sex', 'bedroom', 'textoperator', 'ppmsg', 'king', 'crying', 'building', 'map', 'imprtant', 'tomorw', 'cherthala', 'cochin', 'bfore', 'accordingly', 'tmorow', 'engaged', 'ans', 'torch', 'bold', 'farm', 'law', 'purchase', 'poop', 'looks', 'gpu', 'entrepreneurs', 'corporation', 'gap', 'prevent', 'dehydration', 'fluids', 'weird', 'idea', 'away', 'trek', 'harri', 'drivin', 'fantastic', 'gage', 'deck', 'cnupdates', 'newsletter', 'alerts', 'seems', 'timing', 'shitstorm', 'attributed', 'stress', 'dorm', 'sell', 'csbcm', 'callcost', 'mobilesvary', 'sth', 'specs', 'px', 'macha', 'upset', 'assume', 'mindset', 'wondar', 'flim', 'cookies', 'jelly', 'running', 'admit', 'mad', 'correction', 'scrumptious', 'wants', 'ba', 'dao', 'exactly', 'jide', 'visiting', 'alertfrom', 'jeri', 'stewartsize', 'kbsubject', 'low', 'prescripiton', 'drvgsto', 'spring', 'yay', 'steak', 'twice', 'neglect', 'opportunity', 'add', 'prayers', 'txtauction', 'ctxt', 'mayb', 'rite', 'faster', 'gals', 'attached', 'glad', 'hadn', 'clocks', 'shouted', 'realised', 'wahay', 'shorter', 'gaze', 'eyes', 'subscribed', 'helpline', 'spoken', 'gist', 'realize', 'thousands', 'tattoos', 'premier', 'gimme', 'lip', 'caveboy', 'library', 'confused', 'holla', 'anyone', 'spare', 'faith', 'makes', 'possible', 'vibrate', 'acting', 'grandmas', 'hungover', 'unclaimed', 'closingdate', 'claimcode', 'pmmorefrommobile', 'bremoved', 'mobypobox', 'yf', 'gua', 'mt', 'faber', 'yest', 'wishing', 'city', 'summer', 'store', 'skilgme', 'tscs', 'winawk', 'perwksub', 'goin', 'meetin', 'wonder', 'tis', 'dramatic', 'schools', 'closed', 'apparently', 'drive', 'inch', 'anywhere', 'damn', 'hunting', 'drunkard', 'wats', 'idc', 'weaseling', 'space', 'picking', 'trash', 'smokes', 'begging', 'lovely', 'sing', 'slave', 'punish', 'beerage', 'randomlly', 'opening', 'couldn', 'fixes', 'spelling', 'diff', 'living', 'perfect', 'community', 'polyphonic', 'toppoly', 'tune', 'subpoly', 'pole', 'enjoyed', 'fondly', 'bein', 'thot', 'dogbreath', 'sounding', 'jan', 'omg', 'weighed', 'woohoo', 'uncountable', 'dictionary', 'pieces', 'thmarch', 'availa', 'petey', 'whereare', 'friendsare', 'thekingshead', 'canlove', 'nic', 'appt', 'mates', 'getzed', 'norm', 'cashto', 'getstop', 'php', 'rg', 'jx', 'dled', 'imp', 'ain', 'smokin', 'boooo', 'bec', 'ugh', 'nervous', 'costumes', 'yowifes', 'hint', 'borrow', 'bag', 'outbid', 'simonwatson', 'shinco', 'plyr', 'bid', 'smsrewards', 'notifications', 'ones', 'model', 'youi', 'galileo', 'dobby', 'responding', 'boo', 'enjoyin', 'yourjob', 'gettin', 'hunny', 'llspeak', 'soonlots', 'loveme', 'xxxx', 'starshine', 'ache', 'sips', 'cappuccino', 'teasing', 'smsservices', 'yourinclusive', 'comuk', 'qxj', 'extra', 'cm', 'ae', 'alfie', 'moon', 'charity', 'nokias', 'polys', 'zed', 'profit', 'bits', 'hahaha', 'brain', 'turned', 'green', 'burial', 'mojibiola', 'cust', 'mate', 'rv', 'hol', 'ages', 'rvx', 'skyped', 'kz', 'sura', 'given', 'ultimatum', 'countin', 'aburo', 'surely', 'successful', 'five', 'inconsiderate', 'nag', 'recession', 'hence', 'wed', 'soo', 'understand', 'morrow', 'comprehensive', 'prashanthettan', 'mother', 'ibiza', 'await', 'collection', 'wp', 'meanwhile', 'xavier', 'seconds', 'warning', 'samantha', 'playing', 'guitar', 'impress', 'doug', 'realizes', 'stomach', 'trauma', 'swear', 'matter', 'shoes', 'wan', 'inner', 'tigress', 'version', 'poor', 'urfeeling', 'bettersn', 'probthat', 'overdose', 'careful', 'spk', 'sn', 'lovejen', 'returned', 'fall', 'worlds', 'discreet', 'vip', 'hai', 'ana', 'sathy', 'rto', 'spoons', 'named', 'tampa', 'genius', 'whenever', 'connections', 'sort', 'lotta', 'corvettes', 'lately', 'yrs', 'supply', 'cds', 'virgin', 'records', 'mystery', 'smsco', 'approx', 'consider', 'walls', 'bunkers', 'peaceful', 'xxxxxx', 'posh', 'birds', 'chaps', 'user', 'trial', 'prods', 'champneys', 'dob', 'asap', 'philosophical', 'hole', 'saved', 'drop', 'cuddle', 'nap', 'atleast', 'otherwise', 'shakespeare', 'shesil', 'travel', 'ntt', 'cr', 'fixedline', 'castor', 'liverpool', 'played', 'mid', 'stopsms', 'reminder', 'downloaded', 'doit', 'mymoby', 'knew', 'woul', 'lead', 'wanting', 'curfew', 'gibe', 'midnight', 'getsleep', 'studdying', 'ear', 'training', 'massages', 'oil', 'sup', 'yoyyooo', 'permissions', 'mac', 'usb', 'gibbs', 'unsold', 'mike', 'hussey', 'failed', 'sad', 'unbelievable', 'faglord', 'murder', 'nutter', 'cutter', 'ctter', 'cttergg', 'cttargg', 'ctargg', 'ctagg', 'ie', 'thus', 'superb', 'grateful', 'happier', 'agents', 'experiment', 'due', 'several', 'outstanding', 'invoices', 'teach', 'smell', 'tobacco', 'derek', 'taylor', 'assumed', 'worst', 'charles', 'lastest', 'stereophonics', 'marley', 'dizzee', 'racal', 'libertines', 'strokes', 'nookii', 'bookmark', 'plus', 'grinule', 'greet', 'white', 'fudge', 'oreos', 'stores', 'january', 'male', 'sale', 'gay', 'cheaper', 'peak', 'zaher', 'ym', 'nauseous', 'pissed', 'sweets', 'pig', 'dieting', 'chip', 'iam', 'addicted', 'msging', 'wrong', 'photo', 'registered', 'yck', 'ma', 'ashley', 'avalarr', 'hollalater', 'attend', 'rounds', 'blogging', 'magicalsongs', 'blogspot', 'aftr', 'diet', 'ate', 'slices', 'kvb', 'million', 'ppt', 'jy', 'alternative', 'term', 'ore', 'mo', 'owo', 'moments', 'fro', 'wherever', 'samus', 'shoulders', 'matthew', 'lux', 'xh', 'wear', 'jeans', 'fever', 'vomitin', 'hp', 'stuffed', 'bleh', 'least', 'writhing', 'tons', 'paypal', 'voila', 'pockets', 'theyre', 'places', 'medical', 'folks', 'sorta', 'blown', 'recently', 'scores', 'sophas', 'secondary', 'application', 'applying', 'ogunrinde', 'expensive', 'photos', 'tcr', 'lodging', 'chk', 'ms', 'dict', 'shb', 'truth', 'against', 'gravity', 'carefully', 'feels', 'heavy', 'bowl', 'filthy', 'stories', 'brand', 'decision', 'simpler', 'magical', 'welp', 'retired', 'natwest', 'chad', 'gymnastics', 'site', 'christians', 'necklace', 'token', 'liking', 'aptitude', 'horse', 'racing', 'earlier', 'chicken', 'rice', 'closes', 'wrongly', 'ad', 'crap', 'borin', 'boggy', 'boring', 'biatch', 'nxt', 'hesitate', 'weakness', 'notebook', 'salary', 'chocolate', 'potential', 'talent', 'reckon', 'eightish', 'carpark', 'videophones', 'videochat', 'java', 'dload', 'polyph', 'noline', 'rentl', 'fuckin', 'dropped', 'loving', 'yun', 'ubi', 'irene', 'ere', 'cres', 'tech', 'ph', 'wkg', 'sd', 'butt', 'sore', 'relaxing', 'party', 'stripes', 'skirt', 'miracle', 'jesus', 'blessed', 'escalator', 'quiet', 'beth', 'aunts', 'charlie', 'helen', 'heard', 'syllabus', 'panasonic', 'bluetoothhdset', 'doublemins', 'doubletxt', 'contract', 'poyyarikatur', 'kolathupalayam', 'unjalur', 'erode', 'hero', 'apt', 'kerala', 'terrible', 'fan', 'meat', 'lovers', 'supreme', 'regret', 'cudnt', 'drove', 'ctla', 'ente', 'ishtamayoo', 'bakrid', 'exe', 'glorious', 'anniversary', 'finds', 'prey', 'coaxing', 'images', 'fond', 'souveniers', 'cougar', 'pen', 'secretly', 'fancies', 'datebox', 'essexcm', 'xn', 'pattern', 'throat', 'scratches', 'plm', 'asleep', 'foreign', 'stamps', 'lecture', 'sheffield', 'nanny', 'raise', 'zoe', 'shitin', 'defo', 'hardest', 'millions', 'lekdog', 'setting', 'filling', 'loverboy', 'blankets', 'sufficient', 'thx', 'atten', 'roast', 'hb', 'concentrate', 'educational', 'flirting', 'chatting', 'walked', 'serious', 'kickoff', 'june', 'rd', 'sells', 'data', 'analysis', 'thesis', 'belligerent', 'hiya', 'april', 'les', 'rudi', 'snoring', 'drunk', 'sends', 'ink', 'throwing', 'deciding', 'eastenders', 'flower', 'compare', 'herself', 'violet', 'tulip', 'lily', 'wkent', 'technical', 'support', 'process', 'networking', 'prepared', 'finalise', 'during', 'works', 'flirtparty', 'replys', 'bitch', 'dentist', 'revealed', 'wu', 'bathing', 'xchat', 'lul', 'juicy', 'nurses', 'shes', 'obese', 'oyea', 'oi', 'ami', 'parchi', 'na', 'kicchu', 'kaaj', 'korte', 'iccha', 'korche', 'tul', 'movies', 'copies', 'sculpture', 'convey', 'regards', 'surya', 'vijay', 'pokkiri', 'pic', 'dearer', 'dem', 'attraction', 'thoughts', 'breath', 'sorrows', 'fight', 'craziest', 'proove', 'planet', 'singing', 'praises', 'curry', 'makiing', 'sambar', 'ndship', 'needle', 'clock', 'evn', 'itz', 'alwys', 'conected', 'spatula', 'hands', 'sipix', 'digital', 'bp', 'warranty', 'doctor', 'complexities', 'freely', 'taxes', 'outrageous', 'tomorro', 'ryder', 'subscriber', 'receipt', 'elvis', 'presleys', 'fret', 'strips', 'postal', 'gifts', 'cliff', 'ne', 'interesting', 'wrking', 'uni', 'depressed', 'sittin', 'wind', 'drops', 'black', 'aiyah', 'information', 'onto', 'urawinner', 'surprise', 'awaiting', 'hen', 'italian', 'grins', 'smoked', 'math', 'dhoni', 'rocks', 'teju', 'hourish', 'ground', 'amla', 'durban', 'convenience', 'evaluation', 'speed', 'speedchat', 'swap', 'chatter', 'rcd', 'cancel', 'cheyyamo', 'aiyar', 'survey', 'catching', 'errors', 'difficulties', 'howz', 'tau', 'sar', 'piah', 'stchoice', 'wearing', 'film', 'shade', 'copied', 'notified', 'luck', 'marketing', 'raining', 'station', 'tank', 'virgins', 'fil', 'sexual', 'theirs', 'cute', 'sitter', 'kaitlyn', 'adult', 'danger', 'peeps', 'comment', 'veggie', 'neighbors', 'computerless', 'balloon', 'silently', 'drms', 'wrc', 'rally', 'oz', 'lucozade', 'energy', 'le', 'packs', 'itcould', 'melody', 'horrible', 'macs', 'toot', 'bigger', 'nw', 'hme', 'islands', 'chennai', 'velachery', 'flippin', 'breaking', 'cstore', 'annoying', 'hangin', 'makin', 'lodge', 'worrying', 'shame', 'quizzes', 'popcorn', 'jordan', 'celeb', 'pocketbabe', 'voicemail', 'thin', 'arguments', 'fed', 'himso', 'neft', 'credited', 'beneficiary', 'tuition', 'understanding', 'choice', 'enter', 'subs', 'appreciated', 'semi', 'apart', 'delivered', 'exp', 'apr', 'strong', 'arms', 'maaaan', 'guessin', 'walmart', 'ilol', 'personally', 'wuldnt', 'mite', 'creepy', 'lunchtime', 'organise', 'complete', 'passable', 'score', 'phd', 'easier', 'nok', 'txtin', 'prakesh', 'apps', 'rofl', 'betta', 'invest', 'anti', 'aging', 'products', 'hr', 'delay', 'accommodation', 'various', 'global', 'phb', 'submitting', 'textcomp', 'snatch', 'purse', 'drivby', 'edrunk', 'iff', 'pthis', 'senrd', 'dnot', 'dancce', 'drum', 'basq', 'ihave', 'nhite', 'ros', 'xxxxxxx', 'morn', 'relieved', 'westonzoyland', 'greatness', 'europe', 'nobody', 'chinese', 'docs', 'songs', 'havin', 'gal', 'mc', 'hun', 'ava', 'goodtime', 'oli', 'rang', 'melnite', 'ifink', 'sorted', 'everythin', 'mon', 'flip', 'shun', 'bian', 'glass', 'exhibition', 'el', 'nino', 'himself', 'cbe', 'honey', 'jd', 'accounts', 'executive', 'picked', 'downstem', 'wahala', 'inperialmusic', 'weirdest', 'leafcutter', 'john', 'insects', 'molested', 'plumbing', 'remixed', 'evil', 'acid', 'exact', 'jane', 'minmoremobsemspobox', 'tee', 'cheery', 'cell', 'thts', 'collected', 'dough', 'control', 'weirdo', 'mode', 'stalk', 'profiles', 'jerry', 'irritates', 'fails', 'express', 'drinkin', 'wondering', 'others', 'dog', 'tour', 'pax', 'deposit', 'jap', 'disappeared', 'birthdate', 'certificate', 'publish', 'dreams', 'nydc', 'wheellock', 'destination', 'fifty', 'favour', 'settling', 'happenin', 'ola', 'cocksuckers', 'ipads', 'worthless', 'garbage', 'novelty', 'items', 'fran', 'broke', 'knackered', 'janx', 'dads', 'designation', 'software', 'developer', 'jamster', 'videosound', 'gold', 'videosounds', 'logos', 'musicnews', 'lions', 'lionm', 'lionp', 'ringtones', 'original', 'jokin', 'spirit', 'bb', 'shattered', 'alrite', 'idiot', 'girlie', 'colours', 'darker', 'styling', 'whenevr', 'gray', 'remembr', 'listn', 'watevr', 'harry', 'potter', 'phoenix', 'among', 'readers', 'shd', 'minus', 'paragraphs', 'coveragd', 'vasai', 'retard', 'bathroom', 'sang', 'uptown', 'february', 'rush', 'icic', 'syria', 'canada', 'cares', 'goodnoon', 'gauge', 'patty', 'interest', 'vl', 'completing', 'ax', 'chill', 'surgical', 'emergency', 'unfolds', 'frens', 'korean', 'fredericksburg', 'que', 'pases', 'buen', 'tiempo', 'chillin', 'super', 'george', 'saucy', 'theres', 'tmrw', 'compass', 'soul', 'gnun', 'baaaaabe', 'misss', 'youuuuu', 'ned', 'convince', 'tht', 'witot', 'hurting', 'main', 'sweetie', 'blackberry', 'buyer', 'pple', 'marry', 'becz', 'undrstndng', 'avoids', 'problems', 'chain', 'suffer', 'whn', 'arrested', 'suntec', 'steamboat', 'dance', 'moji', 'seem', 'forgive', 'messenger', 'reaching', 'tp', 'fantasies', 'croydon', 'wb', 'bbq', 'everyso', 'panicks', 'fill', 'bar', 'write', 'cover', 'screen', 'gently', 'bears', 'nick', 'tom', 'fact', 'types', 'upload', 'auntie', 'huai', 'juan', 'linerental', 'lf', 'tlk', 'ideal', 'path', 'appear', 'front', 'paths', 'walking', 'arm', 'shot', 'reserve', 'thirunelvali', 'tirunelvali', 'tackle', 'popped', 'tonght', 'ploughing', 'pile', 'ironing', 'chinky', 'wi', 'nz', 'players', 'effect', 'aust', 'bk', 'cafe', 'recharged', 'kidding', 'papa', 'shld', 'stretch', 'detailed', 'sinco', 'payee', 'icicibank', 'urn', 'beware', 'frauds', 'share', 'disclose', 'vote', 'caring', 'losers', 'kaiez', 'option', 'beta', 'practicing', 'babies', 'noncomittal', 'beneath', 'pale', 'goodnite', 'msgrcvdhg', 'snickering', 'tells', 'totally', 'chords', 'rem', 'silver', 'lmao', 'silence', 'exams', 'revision', 'boyf', 'interviw', 'exeter', 'arsenal', 'dartboard', 'condition', 'doubles', 'trebles', 'coat', 'painful', 'everybody', 'recognises', 'alone', 'wisheds', 'intrepid', 'duo', 'missin', 'guilty', 'aiya', 'cardiff', 'addie', 'tues', 'breeze', 'bright', 'fresh', 'twittering', 'restaurant', 'textpod', 'pod', 'ducking', 'chinchillas', 'function', 'headstart', 'desperate', 'rummer', 'flying', 'monkeys', 'certainly', 'optin', 'bbc', 'charts', 'rajini', 'practical', 'summers', 'matched', 'spys', 'mails', 'claire', 'bought', 'costing', 'offering', 'yalru', 'lyfu', 'astne', 'innu', 'mundhe', 'lyf', 'ali', 'halla', 'ke', 'bilo', 'program', 'edhae', 'ovr', 'vargu', 'meow', 'twelve', 'aah', 'xxxxxxxxx', 'prone', 'falls', 'latests', 'llc', 'ny', 'usa', 'msgrcvd', 'permission', 'lucy', 'hubby', 'meetins', 'cumin', 'minmobsmorelkpobox', 'fl', 'wonders', 'personality', 'nature', 'dose', 'tablet', 'incomm', 'blake', 'lotr', 'keeping', 'google', 'maps', 'tiring', 'modules', 'concentrating', 'browsin', 'compulsory', 'purity', 'musthu', 'investigate', 'vomit', 'aint', 'sha', 'vitamin', 'centre', 'crucial', 'jsco', 'leadership', 'skills', 'psychic', 'host', 'based', 'idps', 'linux', 'systems', 'total', 'converter', 'along', 'stars', 'karaoke', 'testing', 'sayy', 'loved', 'except', 'nit', 'leanne', 'eight', 'file', 'format', 'disc', 'hows', 'champ', 'glasgow', 'lovin', 'arrive', 'shortly', 'install', 'browse', 'artists', 'corect', 'speling', 'sarcasm', 'forum', 'ron', 'cts', 'employee', 'aunt', 'nike', 'sooo', 'screaming', 'shouting', 'dang', 'unfortunately', 'airport', 'auction', 'jhl', 'difficult', 'earliest', 'nordstrom', 'konw', 'waht', 'rael', 'gving', 'yuo', 'exmpel', 'jsut', 'ese', 'tihs', 'evrey', 'splleing', 'wrnog', 'sitll', 'raed', 'wihtuot', 'ayn', 'mitsake', 'conference', 'ow', 'degree', 'joining', 'finance', 'prospects', 'bleak', 'filled', 'shant', 'jia', 'bishan', 'nearer', 'sux', 'raiden', 'buff', 'south', 'preferably', 'kegger', 'totes', 'pierre', 'cardin', 'costs', 'rhythm', 'establish', 'truro', 'ext', 'gas', 'gang', 'adventure', 'cloth', 'pack', 'tablets', 'sunroof', 'excellent', 'finishing', 'doors', 'wifi', 'blanked', 'image', 'rumour', 'kalainar', 'thenampet', 'nosy', 'idk', 'reacting', 'freaked', 'whom', 'satanic', 'imposter', 'destiny', 'companion', 'chef', 'listener', 'organizer', 'boyfriend', 'sympathetic', 'athletic', 'courageous', 'determined', 'dependable', 'psychologist', 'pest', 'exterminator', 'psychiatrist', 'healer', 'stylist', 'driver', 'aaniye', 'pudunga', 'venaam', 'brothas', 'chasing', 'chez', 'jules', 'hhahhaahahah', 'nig', 'leonardo', 'kicks', 'strain', 'dime', 'withdraw', 'anyhow', 'falling', 'force', 'smeone', 'millers', 'fire', 'spark', 'flame', 'rawring', 'xoxo', 'somewhr', 'crushes', 'honeymoon', 'outfit', 'propose', 'blame', 'gods', 'blessings', 'cheque', 'olympics', 'leo', 'haul', 'wildlife', 'worzels', 'wizzle', 'dippeditinadew', 'lovingly', 'itwhichturnedinto', 'gifted', 'tomeandsaid', 'shanghai', 'instead', 'cya', 'freezing', 'rt', 'pro', 'ringtoneking', 'redeemable', 'thnx', 'sef', 'dey', 'anjie', 'batch', 'fring', 'flaky', 'sooooo', 'laughing', 'winning', 'tooo', 'nte', 'confuses', 'wating', 'british', 'hotels', 'london', 'talents', 'animal', 'buzz', 'adoring', 'eerie', 'title', 'dracula', 'titles', 'ghost', 'addamsfa', 'munsters', 'exorcist', 'twilight', 'brought', 'shiny', 'warming', 'constant', 'cared', 'wasn', 'surprised', 'french', 'fooled', 'comedy', 'feelin', 'lnly', 'moby', 'hlp', 'keen', 'switch', 'dammit', 'wright', 'fly', 'somewhat', 'event', 'laden', 'wrecked', 'spontaneously', 'goodevening', 'lei', 'action', 'movietrivia', 'waking', 'partnership', 'rgent', 'lookin', 'daytime', 'busty', 'janinexx', 'mostly', 'inside', 'spageddies', 'phasing', 'fourth', 'dimension', 'monthly', 'password', 'mobsi', 'dub', 'je', 'ideas', 'sight', 'remain', 'maintain', 'sh', 'jas', 'squatting', 'cramps', 'digits', 'received', 'nan', 'sonathaya', 'soladha', 'raping', 'dudes', 'poker', 'weightloss', 'mushy', 'embarrassed', 'stash', 'ran', 'priya', 'ordered', 'father', 'messy', 'kilos', 'accidant', 'tookplace', 'ghodbandar', 'traffic', 'moves', 'slovely', 'slip', 'nus', 'sc', 'specialise', 'wad', 'likes', 'dislikes', 'keeps', 'queen', 'desparately', 'fren', 'promises', 'gotten', 'stereo', 'mi', 'unknown', 'album', 'connect', 'vu', 'classmates', 'fires', 'boys', 'pre', 'trackmarque', 'vipclub', 'missionary', 'hook', 'standing', 'entertaining', 'hugh', 'laurie', 'stick', 'indeed', 'praps', 'jon', 'bin', 'spain', 'dinero', 'rents', 'pes', 'james', 'maangalyam', 'alaipayuthe', 'complaining', 'mandy', 'sullivan', 'hotmix', 'fm', 'chosen', 'easter', 'telephone', 'transferred', 'finn', 'di', 'bahamas', 'callfreefone', 'cruise', 'calm', 'downon', 'theacusations', 'itxt', 'iwana', 'wotu', 'doin', 'thew', 'haventcn', 'nething', 'dine', 'conacted', 'social', 'inspection', 'nursery', 'slowly', 'becomes', 'habit', 'follow', 'panren', 'paru', 'chuckin', 'trainners', 'carryin', 'bac', 'schedule', 'dhanush', 'needing', 'stuck', 'habba', 'hw', 'dileep', 'muchand', 'contacts', 'venugopal', 'mentioned', 'remembrs', 'forgets', 'everytime', 'mandan', 'ibh', 'regarding', 'textbook', 'algorithms', 'edition', 'selling', 'buns', 'adore', 'invaders', 'orig', 'arcade', 'console', 'settings', 'alert', 'cro', 'atlanta', 'recharge', 'created', 'fills', 'gaps', 'holding', 'arun', 'transfr', 'takin', 'philosophy', 'intend', 'iwas', 'marine', 'itried', 'urmom', 'careabout', 'foley', 'exciting', 'prizes', 'eye', 'desparate', 'learned', 'fake', 'answering', 'iraq', 'afghanistan', 'stable', 'honest', 'traveling', 'pai', 'seh', 'beer', 'combine', 'parts', 'walsall', 'tue', 'terry', 'jess', 'sian', 'ccna', 'shrek', 'dirty', 'fellow', 'dying', 'lifting', 'teresa', 'package', 'dec', 'ld', 'bam', 'aid', 'usmle', 'squishy', 'mwahs', 'hottest', 'prominent', 'cheek', 'september', 'husband', 'hack', 'backdoor', 'fraction', 'neo', 'subscribe', 'dps', 'list', 'joanna', 'comingdown', 'replacement', 'murali', 'sts', 'engalnd', 'telly', 'mia', 'elliot', 'kissing', 'upto', 'mth', 'tooth', 'wv', 'wipro', 'matric', 'toa', 'payoh', 'payments', 'fedex', 'reception', 'hate', 'consensus', 'entertain', 'delete', 'tag', 'wednesday', 'skype', 'laundry', 'underwear', 'bras', 'strewn', 'pillows', 'waheed', 'fathima', 'mmmm', 'weaknesses', 'pushes', 'knee', 'exposes', 'pulls', 'wicked', 'supports', 'srt', 'thnk', 'ps', 'jontin', 'nearly', 'banned', 'beyond', 'biro', 'masters', 'shell', 'unconsciously', 'avoiding', 'unhappy', 'excuse', 'jog', 'abta', 'season', 'lark', 'extreme', 'sic', 'fones', 'wild', 'uh', 'heads', 'lim', 'vday', 'parachute', 'placed', 'table', 'lambda', 'build', 'snowman', 'angels', 'snowball', 'fights', 'ello', 'ikea', 'ofice', 'cn', 'duffer', 'grr', 'prescription', 'pharmacy', 'cook', 'electricity', 'rpl', 'cnl', 'nor', 'fffff', 'kadeem', 'fujitsu', 'lifebook', 'scold', 'zhong', 'se', 'qing', 'act', 'hypertension', 'wud', 'annoyin', 'prompts', 'vpod', 'carry', 'disturbing', 'avatar', 'nigro', 'scratching', 'anyplaces', 'ecstasy', 'minded', 'minapn', 'flies', 'hittng', 'reflex', 'costa', 'sol', 'toclaim', 'stockport', 'lousy', 'cat', 'woken', 'hip', 'adewale', 'aka', 'egbon', 'ic', 'mary', 'deduct', 'wrks', 'monkey', 'asshole', 'grab', 'sliding', 'payback', 'honeybee', 'sweetest', 'laughed', 'havnt', 'moral', 'crack', 'gm', 'gn', 'tescos', 'feathery', 'bowa', 'infra', 'nvm', 'gep', 'delhi', 'thinkin', 'fifa', 'held', 'boat', 'moms', 'shhhhh', 'related', 'arul', 'amk', 'length', 'fringe', 'distract', 'antha', 'corrct', 'dane', 'basket', 'proof', 'rupaul', 'provided', 'practising', 'curtsey', 'memory', 'converted', 'downloads', 'members', 'african', 'soil', 'major', 'roles', 'outreach', 'mel', 'birth', 'lb', 'brilliantly', 'forwarding', 'intention', 'visitors', 'rules', 'responsibility', 'bend', 'rule', 'thia', 'inlude', 'previews', 'freefone', 'ambrith', 'madurai', 'dha', 'marrge', 'kitty', 'shaved', 'natural', 'onwards', 'tactful', 'skillgame', 'winaweek', 'ppermesssubscription', 'theatre', 'obviously', 'eggs', 'pert', 'crammed', 'satsgettin', 'lie', 'apologize', 'pei', 'kid', 'boost', 'subtoitles', 'simply', 'sitting', 'jot', 'cereals', 'gari', 'infernal', 'affair', 'including', 'calicut', 'cast', 'aom', 'er', 'thkin', 'parco', 'nb', 'resubbing', 'shadow', 'breadstick', 'ahmad', 'saeed', 'hallaq', 'qp', 'purple', 'pink', 'lyk', 'yelow', 'bck', 'brown', 'giv', 'color', 'arranging', 'eldest', 'drugdealer', 'gender', 'wither', 'sleepwell', 'wondarfull', 'txtx', 'normally', 'onbus', 'donyt', 'latelyxxx', 'mca', 'rich', 'official', 'flag', 'yer', 'eng', 'yor', 'stressed', 'jason', 'soooo', 'provider', 'tming', 'cutest', 'dice', 'art', 'inclusive', 'howda', 'mathe', 'samachara', 'audrie', 'autocorrect', 'simulate', 'readiness', 'armand', 'vomiting', 'rub', 'feet', 'lara', 'supplies', 'clever', 'guesses', 'attach', 'med', 'stamped', 'bray', 'wicklow', 'eire', 'washob', 'nobbing', 'nickey', 'platt', 'ryan', 'vikky', 'idew', 'argh', 'spotty', 'province', 'sterling', 'looked', 'xam', 'hall', 'manage', 'hesitation', 'intha', 'ponnungale', 'ipaditan', 'rejected', 'shitload', 'diamonds', 'tessy', 'favor', 'nimya', 'shijas', 'aunty', 'china', 'noisy', 'needa', 'mcat', 'manual', 'reset', 'troubleshooting', 'marsms', 'utele', 'strongly', 'sacrifice', 'beg', 'expecting', 'creativity', 'stifled', 'morphine', 'requirements', 'stayin', 'getha', 'buffy', 'satisfy', 'pix', 'qlynnbv', 'cld', 'prefer', 'nosh', 'waaaat', 'lololo', 'occupied', 'kindly', 'documents', 'submitted', 'stapati', 'miles', 'cutie', 'hills', 'killed', 'colleagues', 'sed', 'mood', 'minuts', 'latr', 'kidz', 'sofa', 'honesty', 'specialisation', 'labor', 'shakara', 'beggar', 'smashed', 'dent', 'crickiting', 'yavnt', 'popping', 'ibuprofens', 'sip', 'grown', 'chinatown', 'porridge', 'claypot', 'yam', 'fishhead', 'beehoon', 'tok', 'specific', 'jaklin', 'nearby', 'cliffs', 'ntwk', 'bundle', 'deals', 'avble', 'mf', 'pages', 'figures', 'ooh', 'moseley', 'weds', 'thankyou', 'pending', 'aluable', 'ffectionate', 'oveable', 'ternal', 'oble', 'ruthful', 'ntimate', 'atural', 'namous', 'textin', 'cousin', 'frndship', 'excuses', 'raji', 'legs', 'neck', 'amigos', 'burn', 'progress', 'continue', 'holy', 'weren', 'arty', 'collages', 'tryin', 'billion', 'classes', 'waliking', 'cartons', 'shelves', 'distance', 'mirror', 'youre', 'turning', 'freak', 'ref', 'jod', 'keris', 'smidgin', 'belive', 'intentions', 'empty', 'slots', 'accordin', 'discussed', 'knocking', 'nelson', 'temp', 'unmits', 'display', 'newspapers', 'soup', 'yummmm', 'management', 'puzzeles', 'include', 'goten', 'scammers', 'regular', 'prem', 'morro', 'passion', 'dena', 'spoiled', 'threats', 'sales', 'shifad', 'raised', 'complaint', 'doctors', 'reminds', 'lounge', 'lk', 'role', 'checked', 'splashmobile', 'subscrition', 'dust', 'shagged', 'watchin', 'meaningless', 'brdget', 'jones', 'inever', 'hype', 'studio', 'bedrm', 'unable', 'waited', 'velly', 'wkend', 'huge', 'marking', 'letters', 'mids', 'oranges', 'upd', 'stoptx', 'annie', 'remind', 'mailbox', 'messaging', 'retrieve', 'va', 'hrishi', 'nothin', 'hanger', 'poem', 'cheer', 'tear', 'duchess', 'cornwall', 'arrow', 'bags', 'blanket', 'tddnewsletter', 'emc', 'thedailydraw', 'dozens', 'prizeswith', 'significant', 'waqt', 'pehle', 'naseeb', 'zyada', 'kisi', 'ko', 'kuch', 'nahi', 'milta', 'zindgi', 'wo', 'jo', 'hum', 'sochte', 'jeetey', 'worse', 'stalking', 'dan', 'reminded', 'varaya', 'elaya', 'anand', 'beach', 'expected', 'aww', 'jez', 'iscoming', 'todo', 'workand', 'whilltake', 'zogtorius', 'staring', 'whether', 'financial', 'alian', 'posible', 'century', 'frwd', 'unnecessarily', 'affectionate', 'sorts', 'restrictions', 'buddys', 'owned', 'possessive', 'clarification', 'spook', 'halloween', 'issue', 'weigh', 'fantasy', 'football', 'sky', 'gamestar', 'active', 'scoring', 'coimbatore', 'expired', 'monoc', 'monos', 'polyc', 'stream', 'opinions', 'categories', 'measure', 'ethnicity', 'census', 'transcribing', 'propsd', 'gv', 'lv', 'lttrs', 'threw', 'thm', 'aproach', 'dt', 'truck', 'speeding', 'wn', 'instantly', 'thy', 'lived', 'happily', 'gthr', 'drinking', 'evrydy', 'paragon', 'arent', 'cakes', 'bluff', 'impossible', 'draws', 'goodmate', 'sary', 'asusual', 'cheered', 'franyxxxxx', 'batt', 'added', 'pussy', 'becausethey', 'responce', 'happend', 'piece', 'wiskey', 'brandy', 'rum', 'gin', 'vodka', 'scotch', 'shampain', 'kudi', 'yarasu', 'dhina', 'vaazhthukkal', 'gained', 'kg', 'sugar', 'pressure', 'limits', 'dumb', 'thangam', 'okey', 'doke', 'dressed', 'laying', 'kills', 'neshanth', 'byatch', 'whassup', 'kay', 'roger', 'cl', 'nasty', 'filthyguys', 'slo', 'wasted', 'chiong', 'christ', 'solve', 'murdered', 'police', 'questioned', 'cooking', 'gardener', 'vegetables', 'maid', 'neighbour', 'murderer', 'brilliant', 'pose', 'comb', 'dryer', 'fps', 'computational', 'science', 'push', 'answered', 'madam', 'disturbance', 'dlf', 'premarica', 'rgds', 'gotto', 'settle', 'err', 'bloo', 'hitter', 'offline', 'anjola', 'asjesus', 'wrote', 'indians', 'swiss', 'directors', 'lac', 'crore', 'deposited', 'taxless', 'budget', 'jobs', 'lane', 'suply', 'projects', 'citizen', 'imf', 'blocked', 'politicians', 'rights', 'corrupt', 'itna', 'karo', 'ki', 'pura', 'padhe', 'torrents', 'particularly', 'slowing', 'commit', 'random', 'trivia', 'rightio', 'brum', 'donno', 'scorable', 'paranoid', 'brin', 'properly', 'sheet', 'complain', 'bettr', 'bsnl', 'offc', 'payed', 'suganya', 'dessert', 'abeg', 'sponsors', 'onum', 'poet', 'imagination', 'rr', 'famamus', 'sry', 'furniture', 'lock', 'locks', 'key', 'jenne', 'easiest', 'barcelona', 'ru', 'sppok', 'complementary', 'pansy', 'jungle', 'kanji', 'srs', 'drizzling', 'appointments', 'shoving', 'papers', 'greetings', 'excused', 'drama', 'struggling', 'strange', 'ego', 'necessity', 'reppurcussions', 'released', 'cosign', 'hvae', 'acl', 'hcl', 'requires', 'freshers', 'suman', 'telephonic', 'indyarocks', 'dai', 'resume', 'cars', 'bids', 'reliant', 'fwiw', 'afford', 'happens', 'whr', 'maga', 'sq', 'arrival', 'yunny', 'citylink', 'props', 'pleasant', 'statements', 'bognor', 'splendid', 'ktv', 'misplaced', 'computers', 'mmmmm', 'medicine', 'begun', 'registration', 'permanent', 'residency', 'plenty', 'relatives', 'deliver', 'risks', 'benefits', 'amount', 'predicting', 'accumulation', 'programs', 'belongs', 'fated', 'shoranur', 'incident', 'fuelled', 'concern', 'prior', 'grief', 'violence', 'environment', 'terrific', 'honestly', 'promptly', 'burnt', 'advice', 'snap', 'quizclub', 'rwm', 'gmw', 'connected', 'someplace', 'goods', 'pressies', 'dr', 'superior', 'ultimately', 'tor', 'motive', 'tui', 'achieve', 'korli', 'dock', 'rolled', 'newscaster', 'dabbles', 'flute', 'behind', 'wheel', 'amazing', 'picsfree', 'vid', 'keyword', 'ruin', 'erm', 'october', 'elaborating', 'safety', 'aspects', 'issues', 'tarot', 'department', 'ours', 'conform', 'horniest', 'instructions', 'lp', 'flow', 'developed', 'ovarian', 'cysts', 'bc', 'shrink', 'upping', 'grams', 'timin', 'apes', 'death', 'ibm', 'toshiba', 'gosh', 'spose', 'rimac', 'arestaurant', 'squid', 'dosomething', 'wrk', 'dabooks', 'eachother', 'luckily', 'starring', 'restocked', 'knock', 'whose', 'tkls', 'stoptxtstop', 'innocent', 'mental', 'smoothly', 'hoped', 'bills', 'challenging', 'marrow', 'hon', 'breakfast', 'hamper', 'reality', 'above', 'unni', 'lacking', 'particular', 'dramastorm', 'forfeit', 'treated', 'digi', 'fab', 'coupla', 'sundayish', 'prasad', 'tiwary', 'rcb', 'battle', 'bang', 'kochi', 'cancer', 'checkup', 'pap', 'smear', 'gobi', 'arts', 'pandy', 'technologies', 'olowoyey', 'usc', 'edu', 'argentina', 'secretary', 'taxt', 'massage', 'tie', 'pos', 'lool', 'dollar', 'pull', 'spending', 'shaking', 'booty', 'lil', 'scarcasim', 'naal', 'eruku', 'remains', 'bro', 'amongst', 'bros', 'impressively', 'sensible', 'response', 'nalla', 'obedient', 'ft', 'combination', 'needy', 'pouts', 'stomps', 'northampton', 'abj', 'serving', 'playng', 'mcfly', 'ab', 'sara', 'jorge', 'smith', 'anna', 'nagar', 'yupz', 'ericson', 'der', 'luks', 'modl', 'cheesy', 'frosty', 'witin', 'sports', 'fans', 'sept', 'nnfwfly', 'shirts', 'nudist', 'themed', 'pump', 'petrol', 'feb', 'ignore', 'evr', 'signal', 'neither', 'unusual', 'hugs', 'snogs', 'west', 'palm', 'printing', 'handing', 'uks', 'fastest', 'growing', 'chase', 'stated', 'tariffs', 'perpetual', 'dd', 'steam', 'reg', 'pract', 'flung', 'public', 'govt', 'instituitions', 'justbeen', 'overa', 'brains', 'mush', 'tunde', 'missions', 'luxury', 'canary', 'aq', 'sleepy', 'dare', 'ben', 'mag', 'avo', 'middle', 'crashed', 'cuddled', 'chachi', 'pl', 'tiz', 'kanagu', 'prices', 'ringing', 'houseful', 'brats', 'pulling', 'diwali', 'tick', 'onion', 'derp', 'abusers', 'lipo', 'netflix', 'thgt', 'clash', 'arr', 'oscar', 'rebtel', 'firefox', 'lower', 'bcmsfwc', 'impressed', 'funs', 'footy', 'stadium', 'large', 'coca', 'cola', 'dark', 'teenager', 'exhaust', 'replacing', 'mittelschmertz', 'paracetamol', 'pee', 'arrived', 'cthen', 'enuff', 'conclusion', 'contents', 'references', 'success', 'instant', 'affidavit', 'twiggs', 'division', 'courtroom', 'creep', 'showers', 'possessiveness', 'poured', 'lies', 'golden', 'lasting', 'mobs', 'crazyin', 'sleepingwith', 'finest', 'ymca', 'wtc', 'weiyi', 'property', 'interflora', 'flowers', 'teeth', 'paining', 'romcapspam', 'presence', 'outgoing', 'maggi', 'mee', 'cough', 'bbd', 'pooja', 'pimples', 'sweatter', 'ambitious', 'miiiiiiissssssssss', 'tunji', 'iz', 'yellow', 'misscall', 'frndz', 'frog', 'tall', 'doubt', 'handle', 'note', 'robs', 'avenge', 'japanese', 'proverb', 'strike', 'choices', 'toss', 'coin', 'gudni', 'dancin', 'explicitly', 'nora', 'gayle', 'crucify', 'moved', 'butting', 'freedom', 'vs', 'cedar', 'twenty', 'durham', 'reserved', 'seat', 'porn', 'stopbcm', 'sf', 'painting', 'wall', 'printer', 'groovy', 'groovying', 'harish', 'transfred', 'acnt', 'nowadays', 'showrooms', 'shaping', 'attending', 'talks', 'probs', 'doinat', 'callon', 'swatch', 'ganesh', 'dress', 'pdate', 'yhl', 'collecting', 'configure', 'trips', 'cleaning', 'anal', 'pears', 'helloooo', 'welcomes', 'sit', 'celebrate', 'such', 'oooooh', 'resubmit', 'expiry', 'geva', 'mint', 'humans', 'studyn', 'wuld', 'everyboy', 'xxxxxxxx', 'students', 'solved', 'answr', 'liquor', 'flaked', 'loko', 'lined', 'tm', 'ing', 'laughs', 'fireplace', 'icon', 'fifth', 'woozles', 'weasels', 'gary', 'machines', 'fucks', 'sake', 'ignorant', 'mys', 'bruce', 'downs', 'fletcher', 'whos', 'teaching', 'bowls', 'cozy', 'buzzzz', 'chest', 'vibrator', 'shake', 'covers', 'trends', 'pros', 'cons', 'brief', 'description', 'nuclear', 'fusion', 'history', 'iter', 'jet', 'nowhere', 'ikno', 'doesdiscount', 'shitinnit', 'jabo', 'abi', 'slower', 'maniac', 'sapna', 'manege', 'hogidhe', 'chinnu', 'swalpa', 'agidhane', 'footbl', 'crckt', 'swell', 'tim', 'bollox', 'tol', 'hang', 'ingredients', 'pocy', 'bell', 'non', 'qf', 'senor', 'giggle', 'possibly', 'nvq', 'professional', 'tiger', 'woods', 'reboot', 'grinder', 'pt', 'buyers', 'figuring', 'entirely', 'understood', 'bottom', 'phoned', 'disconnected', 'onluy', 'matters', 'offcampus', 'improved', 'riley', 'ew', 'wesley', 'lingo', 'hm', 'chrgd', 'exit', 'salon', 'approaching', 'sankranti', 'republic', 'shivratri', 'ugadi', 'fools', 'independence', 'teachers', 'childrens', 'festival', 'dasara', 'mornings', 'afternoons', 'evenings', 'rememberi', 'raj', 'joys', 'lifeis', 'daywith', 'somewheresomeone', 'tosend', 'greeting', 'selflessness', 'initiate', 'tallent', 'wasting', 'payment', 'portal', 'lennon', 'bothering', 'crab', 'shore', 'waves', 'footprints', 'clearing', 'fox', 'frndsship', 'dwn', 'slaaaaave', 'summon', 'changes', 'appendix', 'range', 'slob', 'smiled', 'topic', 'webpage', 'yeesh', 'unsubscribed', 'hunks', 'gotbabes', 'subscriptions', 'gopalettan', 'participate', 'admin', 'abroad', 'xxsp', 'visionsms', 'stopcost', 'agent', 'goodies', 'mat', 'ay', 'andros', 'steal', 'isaiah', 'meets', 'foot', 'penis', 'expert', 'sigh', 'thinl', 'importantly', 'tightly', 'wnevr', 'fal', 'vth', 'books', 'fals', 'yen', 'madodu', 'nav', 'pretsorginta', 'nammanna', 'pretsovru', 'alwa', 'eveb', 'window', 'lord', 'rings', 'soundtrack', 'stdtxtrate', 'sg', 'phyhcmk', 'emigrated', 'hopeful', 'olol', 'stagwood', 'winterstone', 'victors', 'hill', 'jp', 'mofo', 'pathaya', 'enketa', 'maraikara', 'priest', 'reserves', 'intrude', 'walkabout', 'cashed', 'announced', 'blog', 'removal', 'footie', 'blow', 'phil', 'neville', 'abbey', 'returning', 'knowing', 'punj', 'classic', 'thurs', 'cancelled', 'sacked', 'lookatme', 'clip', 'mmsto', 'barred', 'twat', 'dungerees', 'decking', 'punch', 'mentionned', 'vat', 'planned', 'grl', 'hogolo', 'kodstini', 'agalla', 'madstini', 'hogli', 'mutai', 'eerulli', 'kodthini', 'tex', 'mecause', 'werebored', 'okden', 'uin', 'likeyour', 'updat', 'countinlots', 'xxxxx', 'tagged', 'count', 'challenge', 'hdd', 'casing', 'opened', 'describe', 'asus', 'randomly', 'reformat', 'otside', 'plumbers', 'tape', 'wrench', 'bcum', 'films', 'appeal', 'thriller', 'director', 'size', 'elephant', 'shove', 'um', 'pookie', 'wouldn', 'nri', 'deserve', 'tight', 'lick', 'diddy', 'neighbor', 'toothpaste', 'av', 'poking', 'everyday', 'curious', 'coccooning', 'auto', 'mus', 'newquay', 'postcard', 'talkin', 'bread', 'windy', 'mahal', 'tirunelvai', 'dusk', 'puzzles', 'stairs', 'phews', 'relation', 'luvs', 'praying', 'height', 'recycling', 'earning', 'toledo', 'ding', 'tai', 'feng', 'reservations', 'swimsuit', 'allowed', 'squeeeeeze', 'hug', 'lik', 'frndshp', 'luvd', 'asks', 'volcanoes', 'erupt', 'arise', 'hurricanes', 'sway', 'aroundn', 'disasters', 'lighters', 'lasagna', 'chickened', 'messaged', 'woould', 'deus', 'deliveredtomorrow', 'tap', 'spile', 'broad', 'canal', 'engin', 'edge', 'raviyog', 'peripherals', 'bhayandar', 'east', 'sunoco', 'howard', 'musical', 'plate', 'leftovers', 'starving', 'cooked', 'cheat', 'fatty', 'badrith', 'owe', 'checkin', 'block', 'armenia', 'swann', 'fromm', 'smoking', 'wylie', 'justify', 'ruining', 'meds', 'hunt', 'hava', 'rct', 'thnq', 'adrian', 'vatian', 'everyones', 'babysitting', 'gonnamissu', 'buttheres', 'aboutas', 'merememberin', 'asthere', 'ofsi', 'breakin', 'yaxx', 'ee', 'poortiyagi', 'odalebeku', 'hanumanji', 'hanuman', 'bajarangabali', 'maruti', 'pavanaputra', 'sankatmochan', 'ramaduth', 'mahaveer', 'janarige', 'ivatte', 'kalisidare', 'olage', 'ondu', 'keluviri', 'maretare', 'inde', 'dodda', 'problum', 'nalli', 'siguviri', 'idu', 'matra', 'neglet', 'easily', 'ijust', 'talked', 'opps', 'gei', 'tron', 'dl', 'selfish', 'spiffing', 'workage', 'craving', 'fml', 'supose', 'babysit', 'spaces', 'embassy', 'lightly', 'custom', 'checkboxes', 'sac', 'batsman', 'yetty', 'jiayin', 'tg', 'forgotten', 'reverse', 'cheating', 'mathematics', 'waxsto', 'basic', 'fool', 'emailed', 'yifeng', 'slurp', 'minimum', 'brainless', 'doll', 'vehicle', 'sariyag', 'madoke', 'barolla', 'postponed', 'stocked', 'elaine', 'tiime', 'tears', 'afternon', 'interviews', 'resizing', 'opposed', 'drunken', 'billed', 'shortcode', 'refunded', 'somerset', 'overtime', 'nigpun', 'dismissial', 'screwd', 'bull', 'floating', 'mess', 'heehee', 'arithmetic', 'percentages', 'chillaxin', 'das', 'iknow', 'wellda', 'peril', 'studentfinancial', 'crisis', 'monster', 'ths', 'ias', 'obey', 'uhhhhrmm', 'mb', 'deltomorrow', 'smartcall', 'subscriptn', 'landlineonly', 'callback', 'orno', 'fink', 'promised', 'carlie', 'minmobsmore', 'lkpobox', 'youphone', 'athome', 'youwanna', 'jack', 'helpful', 'pretend', 'hypotheticalhuagauahahuagahyuhagga', 'brainy', 'occasion', 'celebrated', 'reflection', 'values', 'desires', 'affections', 'traditions', 'cantdo', 'anythingtomorrow', 'myparents', 'aretaking', 'outfor', 'katexxx', 'level', 'gate', 'wedding', 'lingerie', 'bridal', 'petticoatdreams', 'weddingfriend', 'board', 'overheating', 'reslove', 'inst', 'western', 'outta', 'notixiquating', 'laxinorficated', 'bambling', 'entropication', 'oblisingately', 'opted', 'masteriastering', 'amplikater', 'fidalfication', 'champlaxigating', 'atrocious', 'wotz', 'junna', 'knickers', 'nikiyu', 'accident', 'divert', 'wadebridge', 'vill', 'orc', 'bloomberg', 'careers', 'seeking', 'priscilla', 'wisdom', 'inform', 'wherre', 'resolution', 'frank', 'logoff', 'parkin', 'kent', 'vale', 'cann', 'asa', 'westlife', 'unbreakable', 'untamed', 'unkempt', 'prince', 'charming', 'mention', 'served', 'arnt', 'xxxxxxxxxxxxxx', 'dorothy', 'kiefer', 'granite', 'explosive', 'nasdaq', 'symbol', 'cdgt', 'alle', 'mone', 'eppolum', 'allalo', 'mega', 'pixels', 'optical', 'dooms', 'noi', 'js', 'burgundy', 'captaining', 'base', 'placement', 'amrita', 'profile', 'bpo', 'nighters', 'persevered', 'regretted', 'spouse', 'pmt', 'sumthin', 'shldxxxx', 'scenario', 'ppmpobox', 'bhamb', 'xe', 'pounded', 'lion', 'devouring', 'airtel', 'broadband', 'processed', 'installation', 'tensed', 'coughing', 'warned', 'sprint', 'prolly', 'gower', 'chik', 'filth', 'saristar', 'yt', 'wire', 'mobcudb', 'sabarish', 'jaya', 'inpersonation', 'flea', 'forums', 'banneduk', 'highest', 'maximum', 'taj', 'lesser', 'known', 'facts', 'mumtaz', 'shahjahan', 'wifes', 'arises', 'hari', 'rtf', 'sphosting', 'webadres', 'geting', 'incredible', 'fwd', 'ship', 'maturity', 'confirmed', 'passport', 'multiply', 'independently', 'showed', 'twins', 'strt', 'ltdhelpdesk', 'equally', 'uneventful', 'pesky', 'cyclists', 'adi', 'entey', 'nattil', 'kittum', 'kavalan', 'hire', 'hitman', 'cps', 'causing', 'outages', 'conserve', 'voted', 'epi', 'bare', 'bhaskar', 'dubsack', 'gong', 'kaypoh', 'basketball', 'outdoors', 'macho', 'interfued', 'blank', 'listed', 'apology', 'hustle', 'forth', 'audition', 'harlem', 'workout', 'fats', 'zac', 'tonights', 'hui', 'xin', 'lib', 'difference', 'versus', 'underdtand', 'muchxxlove', 'locaxx', 'skateboarding', 'despite', 'thrown', 'winds', 'bandages', 'hectic', 'fell', 'swoop', 'wamma', 'doggin', 'dogs', 'langport', 'virtual', 'senthil', 'apnt', 'pants', 'sri', 'lanka', 'merely', 'relationship', 'wherevr', 'forevr', 'gudnyt', 'mistakes', 'plum', 'smacks', 'alot', 'formatting', 'attracts', 'promotion', 'vegas', 'lou', 'lancaster', 'neway', 'soc', 'bsn', 'advising', 'lobby', 'texted', 'showered', 'ything', 'vewy', 'lubly', 'catches', 'specify', 'domain', 'nusstu', 'bari', 'hudgi', 'yorge', 'pataistha', 'ertini', 'hasbro', 'jump', 'hoops', 'ummifying', 'associate', 'rip', 'uterus', 'pool', 'jacuzzi', 'txtstar', 'uve', 'wildest', 'aldrine', 'rtm', 'sources', 'unhappiness', 'necesity', 'witout', 'colleg', 'wth', 'functions', 'events', 'espe', 'irritated', 'wrd', 'wthout', 'takecare', 'univ', 'rajas', 'burrito', 'disconnect', 'terrorist', 'confirmd', 'verified', 'cnn', 'ibn', 'stitch', 'trouser', 'cheetos', 'synced', 'shangela', 'hppnss', 'sorrow', 'goodfriend', 'passes', 'poo', 'gloucesterroad', 'uup', 'ouch', 'stayed', 'glo', 'wlcome', 'eaten', 'timi', 'mila', 'blonde', 'mtalk', 'pp', 'increments', 'fishrman', 'sack', 'stones', 'strtd', 'throwin', 'atlast', 'stone', 'mobstorequiz', 'physics', 'praveesh', 'delicious', 'salad', 'desert', 'beers', 'whore', 'funk', 'twinks', 'scallies', 'skins', 'jocks', 'nat', 'flood', 'beads', 'wishlist', 'section', 'nitro', 'comfort', 'sold', 'creative', 'reffering', 'getiing', 'weirdy', 'brownies', 'restrict', 'funeral', 'vivek', 'tnc', 'brah', 'possession', 'greece', 'protect', 'sib', 'sensitive', 'passwords', 'recorded', 'someday', 'grandfather', 'blu', 'concert', 'november', 'yuou', 'spot', 'ipad', 'bunch', 'lotto', 'bird', 'purchases', 'authorise', 'gimmi', 'goss', 'ystrday', 'chile', 'subletting', 'ammae', 'steering', 'sleeps', 'rounder', 'required', 'lambu', 'ji', 'batchlor', 'zoom', 'cncl', 'stopcs', 'cheese', 'tms', 'widelive', 'index', 'wml', 'ecef', 'ff', 'jul', 'xafter', 'cst', 'chg', 'pure', 'hearted', 'enemies', 'smiley', 'gail', 'tr', 'yaxxx', 'theoretically', 'hooked', 'formally', 'multimedia', 'hsbc', 'vague', 'accounting', 'delayed', 'housing', 'agency', 'renting', 'presents', 'nicky', 'gumby', 'alto', 'wave', 'asp', 'sized', 'tarpon', 'springs', 'cab', 'steps', 'limited', 'hf', 'radiator', 'proper', 'tongued', 'shorts', 'qi', 'suddenly', 'flurries', 'melt', 'eek', 'born', 'pushbutton', 'dontcha', 'babygoodbye', 'golddigger', 'webeburnin', 'perform', 'cards', 'rebooting', 'nigh', 'nooooooo', 'cable', 'outage', 'sos', 'playin', 'guoyang', 'rahul', 'dengra', 'antelope', 'toplay', 'fieldof', 'selfindependence', 'contention', 'gnarls', 'barkleys', 'borderline', 'nightnight', 'possibility', 'grooved', 'affairs', 'mising', 'secured', 'unsecured', 'lanre', 'fakeye', 'eckankar', 'heater', 'degrees', 'dodgey', 'seing', 'asssssholeeee', 'ceri', 'rebel', 'dreamz', 'buddy', 'blokes', 'nationwide', 'newport', 'juliana', 'nachos', 'eta', 'dizzamn', 'suitemates', 'nimbomsons', 'continent', 'housewives', 'landlines', 'emerging', 'fiend', 'impede', 'hesitant', 'thousad', 'nose', 'essay', 'tram', 'vic', 'coherently', 'triple', 'echo', 'gran', 'onlyfound', 'afew', 'cusoon', 'honi', 'dial', 'university', 'southern', 'california', 'rayan', 'macleran', 'balls', 'olave', 'mandara', 'trishul', 'woo', 'hoo', 'panties', 'thout', 'flatter', 'pints', 'carlin', 'literally', 'ciao', 'starve', 'impression', 'motivate', 'darkness', 'wknd', 'yalrigu', 'heltini', 'iyo', 'kothi', 'shared', 'uttered', 'trusting', 'noice', 'esaplanade', 'accessible', 'occurs', 'prof', 'sem', 'student', 'enna', 'kalaachutaarama', 'coco', 'sporadically', 'ldns', 'tbs', 'persolvo', 'kath', 'manchester', 'burden', 'noworriesloans', 'actual', 'harder', 'nbme', 'sickness', 'villa', 'sathya', 'gam', 'smash', 'religiously', 'heroes', 'tips', 'dealing', 'muhommad', 'penny', 'doc', 'fiting', 'load', 'mj', 'unconvinced', 'elaborate', 'willpower', 'value', 'absence', 'answerin', 'reasonable', 'evey', 'mnth', 'prin', 'gsoh', 'spam', 'gigolo', 'mens', 'oncall', 'mjzgroup', 'ashwini', 'ukp', 'thet', 'skinny', 'casting', 'elections', 'hlday', 'camp', 'amrca', 'serena', 'prescribed', 'kappa', 'meatballs', 'approve', 'panalam', 'posts', 'spjanuary', 'allday', 'piss', 'perf', 'outsider', 'receipts', 'familiar', 'depression', 'infact', 'simpsons', 'band', 'shite', 'kip', 'hont', 'amanda', 'regard', 'renewing', 'upgrading', 'subject', 'nannys', 'puts', 'perspective', 'conveying', 'debating', 'wtlp', 'guessing', 'jb', 'florida', 'hidden', 'royal', 'tog', 'teams', 'swhrt', 'ez', 'general', 'jetton', 'cmon', 'sticky', 'replies', 'lunsford', 'enjoying', 'prizeawaiting', 'kfc', 'meals', 'gravy', 'attended', 'mw', 'tuth', 'eviction', 'spiral', 'michael', 'riddance', 'raglan', 'edward', 'cricket', 'closeby', 'skye', 'bookedthe', 'hut', 'drastic', 'indicate', 'garments', 'sez', 'arab', 'evry', 'eshxxxxxxxxxxx', 'lay', 'bimbo', 'ugo', 'portege', 'semiobscure', 'gprs', 'repeat', 'loosu', 'careless', 'freaking', 'myspace', 'logged', 'method', 'calculation', 'blur', 'clothes', 'jewelry', 'breaker', 'deluxe', 'features', 'graphics', 'bbdeluxe', 'lush', 'fumbling', 'taunton', 'weekdays', 'haiz', 'nails', 'common', 'asia', 'greatest', 'courage', 'bear', 'defeat', 'stil', 'fucked', 'tobed', 'beauty', 'natalja', 'asthma', 'attack', 'ball', 'moving', 'spin', 'haiyoh', 'prsn', 'saves', 'sunlight', 'loss', 'audiitions', 'relocate', 'pocked', 'motivating', 'brison', 'spelled', 'caps', 'bullshit', 'motherfucker', 'kit', 'strip', 'ig', 'oja', 'thesmszone', 'anonymous', 'masked', 'abuse', 'woodland', 'avenue', 'parish', 'magazine', 'billy', 'jogging', 'awww', 'useless', 'loo', 'ed', 'shelf', 'swollen', 'glands', 'previous', 'captain', 'bcaz', 'stu', 'truble', 'evone', 'hates', 'mokka', 'view', 'gays', 'dual', 'hostile', 'haircut', 'breezy', 'polyh', 'apple', 'tulsi', 'leaf', 'lemon', 'bone', 'problms', 'litres', 'watr', 'diseases', 'snd', 'lavender', 'manky', 'scouse', 'steve', 'travelling', 'inmind', 'recreation', 'epsilon', 'mesages', 'judgemental', 'fridays', 'waheeda', 'allow', 'bot', 'notes', 'eventually', 'tolerance', 'hits', 'hellogorgeous', 'lst', 'nitw', 'texd', 'hopeu', 'ward', 'jaz', 'exorcism', 'emily', 'emotion', 'dsn', 'prayrs', 'othrwise', 'ujhhhhhhh', 'sandiago', 'parantella', 'hugging', 'sweater', 'mango', 'massive', 'involved', 'landmark', 'bob', 'barry', 'absolutly', 'consent', 'forms', 'tonexs', 'renewed', 'clubzed', 'billing', 'polo', 'mathews', 'tait', 'edwards', 'anderson', 'haunt', 'promoting', 'crowd', 'snowboarding', 'christmassy', 'recpt', 'baaaaaaaabe', 'ignoring', 'shola', 'academic', 'sagamu', 'lautech', 'vital', 'completes', 'education', 'zealand', 'qet', 'browser', 'surf', 'subscribers', 'convinced', 'conversations', 'senses', 'overemphasise', 'headset', 'adp', 'internal', 'extract', 'immed', 'skint', 'fancied', 'bevies', 'waz', 'othrs', 'spoon', 'watchng', 'comfey', 'quitting', 'wudn', 'coast', 'frequently', 'cupboard', 'route', 'mro', 'floppy', 'snappy', 'risk', 'grasp', 'flavour', 'laready', 'denying', 'dom', 'ffffuuuuuuu', 'julianaland', 'oblivious', 'constantly', 'dehydrated', 'suppose', 'archive', 'mgs', 'speechless', 'lengths', 'behalf', 'stunning', 'visa', 'gucci', 'sozi', 'culdnt', 'talkbut', 'wannatell', 'wenwecan', 'smsing', 'efficient', 'explicit', 'secs', 'erutupalam', 'thandiyachu', 'invention', 'lyrics', 'lov', 'nevr', 'unrecognized', 'somone', 'valuing', 'definitly', 'undrstnd', 'ger', 'toking', 'syd', 'khelate', 'kintu', 'opponenter', 'dhorte', 'lage', 'fried', 'spares', 'looovvve', 'warwick', 'tmw', 'canceled', 'havn', 'tops', 'grandma', 'parade', 'proze', 'norcorp', 'posting', 'cfca', 'grumble', 'linear', 'algebra', 'decorating', 'wining', 'roomate', 'graduated', 'adjustable', 'cooperative', 'allows', 'nottingham', 'mph', 'clearly', 'mornin', 'thanku', 'guessed', 'strings', 'ea', 'otbox', 'ws', 'gain', 'beside', 'brisk', 'walks', 'sexiest', 'dirtiest', 'tellmiss', 'contribute', 'greatly', 'urgh', 'coach', 'smells', 'duvet', 'predictive', 'utxt', 'beverage', 'pist', 'surrender', 'symptoms', 'rdy', 'realise', 'backwards', 'abstract', 'africa', 'avin', 'chit', 'logon', 'zf', 'ppmmobilesvary', 'rows', 'mnths', 'engagement', 'fixd', 'njan', 'vilikkam', 'sudn', 'maths', 'chapter', 'chop', 'noooooooo', 'firsg', 'split', 'wasnt', 'heat', 'applyed', 'sumfing', 'txtstop', 'hiphop', 'managed', 'oxygen', 'resort', 'roller', 'recorder', 'canname', 'capital', 'australia', 'mquiz', 'showr', 'acted', 'upon', 'ceiling', 'presnts', 'bcz', 'mis', 'jeevithathile', 'irulinae', 'neekunna', 'prakasamanu', 'sneham', 'prakasam', 'ennal', 'mns', 'blowing', 'firmware', 'vijaykanth', 'anythiing', 'ripped', 'clubmoby', 'keypad', 'btwn', 'decades', 'goverment', 'expects', 'loyal', 'customers', 'spice', 'prasanth', 'ettans', 'appy', 'fizz', 'contains', 'genus', 'robinson', 'print', 'outs', 'soz', 'imat', 'mums', 'sometext', 'chloe', 'wewa', 'iriver', 'bw', 'surly', 'dokey', 'mmmmmmm', 'snuggles', 'contented', 'whispers', 'error', 'healthy', 'scraped', 'barrel', 'misfits', 'sleepin', 'sections', 'clearer', 'peach', 'tasts', 'rayman', 'golf', 'activ', 'termsapply', 'minor', 'shindig', 'phonebook', 'rocking', 'ashes', 'shijutta', 'offense', 'dvg', 'vinobanagar', 'ovulate', 'woah', 'realising', 'orh', 'hides', 'secrets', 'axel', 'akon', 'eyed', 'cashbin', 'canteen', 'stressfull', 'adds', 'continued', 'president', 'pleasured', 'providing', 'assistance', 'whens', 'watever', 'built', 'lonlines', 'lotz', 'memories', 'gailxx', 'complacent', 'denis', 'mina', 'miwa', 'woulda', 'opposite', 'heavily', 'dolls', 'patrick', 'swayze', 'santa', 'santacalling', 'miserable', 'quarter', 'fired', 'limping', 'aa', 'oga', 'poorly', 'punishment', 'brb', 'kill', 'predicte', 'situations', 'loosing', 'smaller', 'capacity', 'videos', 'shsex', 'netun', 'fgkslpopw', 'fgkslpo', 'defer', 'admission', 'checkmate', 'chess', 'persian', 'phrase', 'shah', 'maat', 'rats', 'themes', 'photoshop', 'manageable', 'shoppin', 'increase', 'north', 'carolina', 'texas', 'gre', 'bomb', 'breathing', 'lovly', 'customercare', 'clas', 'lit', 'loooooool', 'couch', 'celebration', 'swashbuckling', 'terror', 'cruel', 'decent', 'joker', 'dip', 'gek', 'nuther', 'lyricalladie', 'hmmross', 'happiest', 'characters', 'differences', 'lists', 'antibiotic', 'abdomen', 'gynae', 'infections', 'exposed', 'chastity', 'device', 'beatings', 'uses', 'stops', 'gut', 'wrenching', 'tallahassee', 'ou', 'taka', 'nr', 'zs', 'ritten', 'fold', 'warner', 'colin', 'farrell', 'swat', 'kiosk', 'mre', 'solihull', 'nhs', 'terminated', 'inconvenience', 'dentists', 'henry', 'yards', 'bergkamp', 'margin', 'parent', 'snot', 'unintentional', 'nonetheless', 'hooch', 'toaday', 'splat', 'grazed', 'knees', 'deny', 'hearin', 'yah', 'torture', 'hopeing', 'sisters', 'sexychat', 'lips', 'congratulation', 'court', 'chapel', 'frontierville', 'mountain', 'deer', 'mailed', 'varma', 'secure', 'parties', 'farting', 'ortxt', 'select', 'trained', 'advisors', 'dialling', 'woot', 'stuffing', 'ahhhh', 'dining', 'experiencehttp', 'vouch', 'etlp', 'kaila', 'donate', 'unicef', 'asian', 'tsunami', 'disaster', 'fund', 'cme', 'hos', 'parking', 'collapsed', 'cumming', 'jade', 'paul', 'barmed', 'thinkthis', 'dangerous', 'goldviking', 'rushing', 'coulda', 'phony', 'okday', 'hmph', 'baller', 'punto', 'ayo', 'travelled', 'freeentry', 'xt', 'toyota', 'camry', 'olayiwola', 'mileage', 'landing', 'clover', 'achan', 'amma', 'rencontre', 'mountains', 'te', 'puppy', 'noise', 'sarasota', 'meg', 'crossing', 'deepest', 'darkest', 'inconvenient', 'adsense', 'approved', 'dudette', 'perumbavoor', 'stage', 'cherish', 'clarify', 'preponed', 'natalie', 'younger', 'wallpaper', 'liver', 'opener', 'guides', 'watched', 'loneliness', 'skyving', 'onwords', 'mtnl', 'mumbai', 'accommodationvouchers', 'mustprovide', 'rajitha', 'ranju', 'styles', 'perweeksub', 'slp', 'muah', 'disagreeable', 'afterwards', 'rearrange', 'meaning', 'dormitory', 'astronomer', 'starer', 'election', 'recount', 'hitler', 'eleven', 'worms', 'suffering', 'dysentry', 'andre', 'virgil', 'gokila', 'shanil', 'exchanged', 'uncut', 'diamond', 'dino', 'kotees', 'panther', 'sugababes', 'zebra', 'animation', 'badass', 'hoody', 'resent', 'queries', 'customersqueries', 'netvision', 'hassling', 'andres', 'haughaighgtujhyguj', 'fassyole', 'blacko', 'londn', 'eva', 'responsibilities', 'vco', 'humanities', 'reassurance', 'aslamalaikkum', 'tohar', 'beeen', 'muht', 'albi', 'mufti', 'mahfuuz', 'enufcredeit', 'tocall', 'ileave', 'treats', 'necessary', 'okors', 'ibored', 'adding', 'zeros', 'savings', 'goigng', 'perfume', 'sday', 'grocers', 'pubs', 'frankie', 'bennys', 'changing', 'diapers', 'owed', 'unlike', 'patients', 'turkeys', 'helens', 'princes', 'unintentionally', 'garden', 'bulbs', 'seeds', 'scotsman', 'notxt', 'wenever', 'stability', 'tranquility', 'vibrant', 'colourful', 'bawling', 'failure', 'failing', 'velusamy', 'facilities', 'karnan', 'bluray', 'salt', 'wounds', 'logging', 'geoenvironmental', 'implications', 'fuuuuck', 'salmon', 'uploaded', 'wrkin', 'ree', 'compensation', 'awkward', 'splash', 'leg', 'musta', 'overdid', 'telediscount', 'gastroenteritis', 'replace', 'reduce', 'limiting', 'illness', 'foned', 'chuck', 'port', 'step', 'stuffs', 'juswoke', 'boatin', 'docks', 'spinout', 'uworld', 'qbank', 'assessment', 'someonone', 'tke', 'temales', 'finishd', 'dull', 'studies', 'anyones', 'treadmill', 'craigslist', 'absolutely', 'swan', 'lamp', 'foward', 'misundrstud', 'genes', 'resuming', 'reapply', 'treatin', 'treacle', 'mumhas', 'beendropping', 'theplace', 'adress', 'favorite', 'oyster', 'sashimi', 'rumbling', 'marandratha', 'correctly', 'alaikkum', 'pride', 'respectful', 'heaven', 'pisces', 'aquarius', 'steyn', 'wicket', 'sterm', 'resolved', 'jam', 'hannaford', 'wheat', 'chex', 'grownup', 'costume', 'jerk', 'stink', 'follows', 'subsequent', 'openings', 'upcharge', 'guai', 'bottle', 'amused', 'astrology', 'slacking', 'mentor', 'erotic', 'ecstacy', 'dept', 'coincidence', 'sane', 'helping', 'leading', 'pause', 'psp', 'spacebucks', 'squeezed', 'maintaining', 'dreading', 'thou', 'suggestion', 'helps', 'forgt', 'ajith', 'ooooooh', 'yoville', 'asda', 'counts', 'officer', 'bffs', 'carly', 'seperated', 'ud', 'brolly', 'franxx', 'prometazine', 'syrup', 'mls', 'feed', 'shu', 'singapore', 'victoria', 'island', 'pocay', 'wocay', 'morrowxxxx', 'broth', 'ramen', 'fowler', 'tats', 'flew', 'attention', 'tix', 'fne', 'youdoing', 'worc', 'foregate', 'shrub', 'legitimat', 'efreefone', 'pendent', 'toilet', 'stolen', 'cops', 'hu', 'navigate', 'choosing', 'require', 'guidance', 'chick', 'boobs', 'revealing', 'sparkling', 'breaks', 'shortbreaks', 'org', 'gyno', 'belong', 'gamb', 'treasure', 'positive', 'negative', 'hmmmm', 'command', 'stressful', 'holby', 'li', 'lecturer', 'repeating', 'yeovil', 'motor', 'rhode', 'bong', 'ofcourse', 'planettalkinstant', 'marvel', 'ultimate', 'spider', 'tamilnadu', 'tip', 'identification', 'limit', 'boundaries', 'endless', 'reassuring', 'young', 'referin', 'saibaba', 'colany', 'chic', 'declare', 'disappointment', 'irritation', 'tantrum', 'compliments', 'adventuring', 'chief', 'gsex', 'chatlines', 'inclu', 'servs', 'bailiff', 'mouse', 'desk', 'childporn', 'jumpers', 'hat', 'belt', 'cribbs', 'spiritual', 'barring', 'sudden', 'influx', 'yeh', 'kane', 'shud', 'pshew', 'units', 'accent', 'dental', 'nmde', 'dump', 'heap', 'lowes', 'salesman', 'pity', 'suggestions', 'bitching'])"
      ]
     },
     "execution_count": 237,
     "metadata": {},
     "output_type": "execute_result"
    }
   ],
   "source": [
    "dictionary.keys()"
   ]
  },
  {
   "cell_type": "code",
   "execution_count": 247,
   "id": "5e39ce16",
   "metadata": {},
   "outputs": [],
   "source": [
    "z = spam['v2']\n",
    "y = spam['v1']"
   ]
  },
  {
   "cell_type": "markdown",
   "id": "90df7511",
   "metadata": {},
   "source": [
    "Cv randomly assigns a number to each word. It counts the number of occurrences of each word, then saves it to cv. In the image below, 0 represents the index of the email. The number sequences in the middle column represent a word recognized by our function, \n",
    "and the numbers on the right indicate the number of times that word was counted:"
   ]
  },
  {
   "cell_type": "code",
   "execution_count": 268,
   "id": "421967b4",
   "metadata": {},
   "outputs": [
    {
     "name": "stdout",
     "output_type": "stream",
     "text": [
      "0.9950192438306543\n",
      "0.9819004524886877\n"
     ]
    }
   ],
   "source": [
    "from sklearn.feature_extraction.text import CountVectorizer\n",
    "from sklearn import svm\n",
    "from sklearn.model_selection import train_test_split\n",
    "\n",
    "z_train, z_test,y_train, y_test = train_test_split(z,y,test_size = 0.2)\n",
    "\n",
    "cv = CountVectorizer()\n",
    "features = cv.fit_transform(z_train)\n",
    "\n",
    "\n",
    "model = svm.SVC()\n",
    "model.fit(features,y_train)\n",
    "print(model.score(features,y_train))\n",
    "\n",
    "features_test = cv.transform(z_test)\n",
    "print(model.score(features_test,y_test))"
   ]
  },
  {
   "cell_type": "code",
   "execution_count": 269,
   "id": "9ba06b12",
   "metadata": {},
   "outputs": [
    {
     "name": "stdout",
     "output_type": "stream",
     "text": [
      "ok lar    joking wif u oni\n"
     ]
    }
   ],
   "source": [
    "print(z[1])"
   ]
  },
  {
   "cell_type": "code",
   "execution_count": null,
   "id": "98ab3698",
   "metadata": {},
   "outputs": [],
   "source": []
  },
  {
   "cell_type": "code",
   "execution_count": null,
   "id": "ddb433bf",
   "metadata": {},
   "outputs": [],
   "source": []
  }
 ],
 "metadata": {
  "kernelspec": {
   "display_name": "Python 3 (ipykernel)",
   "language": "python",
   "name": "python3"
  },
  "language_info": {
   "codemirror_mode": {
    "name": "ipython",
    "version": 3
   },
   "file_extension": ".py",
   "mimetype": "text/x-python",
   "name": "python",
   "nbconvert_exporter": "python",
   "pygments_lexer": "ipython3",
   "version": "3.9.13"
  }
 },
 "nbformat": 4,
 "nbformat_minor": 5
}
